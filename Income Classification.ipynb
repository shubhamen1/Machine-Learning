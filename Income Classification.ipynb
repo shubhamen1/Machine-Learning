{
 "cells": [
  {
   "cell_type": "code",
   "execution_count": 11,
   "metadata": {},
   "outputs": [],
   "source": [
    "import pandas as pd\n",
    "import numpy as np\n",
    "import matplotlib.pyplot as plt\n",
    "import seaborn as sns\n",
    "from sklearn.pipeline import Pipeline\n",
    "from sklearn.preprocessing import StandardScaler, LabelEncoder, PowerTransformer, MinMaxScaler, RobustScaler\n",
    "from sklearn.ensemble import RandomForestClassifier, AdaBoostClassifier, BaggingClassifier, GradientBoostingClassifier\n",
    "from sklearn.naive_bayes import GaussianNB\n",
    "from sklearn.svm import SVC\n",
    "from sklearn.neighbors import KNeighborsClassifier\n",
    "from sklearn.tree import DecisionTreeClassifier\n",
    "from sklearn.model_selection import train_test_split, KFold, cross_val_score, StratifiedKFold, cross_val_predict, GroupKFold\n",
    "from sklearn.metrics import classification_report, cohen_kappa_score, confusion_matrix, f1_score\n",
    "from xgboost.sklearn import XGBClassifier\n",
    "from sklearn.linear_model import LogisticRegression\n",
    "import warnings\n",
    "warnings.filterwarnings('ignore')"
   ]
  },
  {
   "cell_type": "code",
   "execution_count": 2,
   "metadata": {},
   "outputs": [],
   "source": [
    "df = pd.read_csv(\"adult.csv\")"
   ]
  },
  {
   "cell_type": "code",
   "execution_count": 3,
   "metadata": {},
   "outputs": [
    {
     "data": {
      "text/html": [
       "<div>\n",
       "<style scoped>\n",
       "    .dataframe tbody tr th:only-of-type {\n",
       "        vertical-align: middle;\n",
       "    }\n",
       "\n",
       "    .dataframe tbody tr th {\n",
       "        vertical-align: top;\n",
       "    }\n",
       "\n",
       "    .dataframe thead th {\n",
       "        text-align: right;\n",
       "    }\n",
       "</style>\n",
       "<table border=\"1\" class=\"dataframe\">\n",
       "  <thead>\n",
       "    <tr style=\"text-align: right;\">\n",
       "      <th></th>\n",
       "      <th>age</th>\n",
       "      <th>workclass</th>\n",
       "      <th>fnlwgt</th>\n",
       "      <th>education</th>\n",
       "      <th>education.num</th>\n",
       "      <th>marital.status</th>\n",
       "      <th>occupation</th>\n",
       "      <th>relationship</th>\n",
       "      <th>race</th>\n",
       "      <th>sex</th>\n",
       "      <th>capital.gain</th>\n",
       "      <th>capital.loss</th>\n",
       "      <th>hours.per.week</th>\n",
       "      <th>native.country</th>\n",
       "      <th>income</th>\n",
       "    </tr>\n",
       "  </thead>\n",
       "  <tbody>\n",
       "    <tr>\n",
       "      <th>0</th>\n",
       "      <td>90</td>\n",
       "      <td>?</td>\n",
       "      <td>77053</td>\n",
       "      <td>HS-grad</td>\n",
       "      <td>9</td>\n",
       "      <td>Widowed</td>\n",
       "      <td>?</td>\n",
       "      <td>Not-in-family</td>\n",
       "      <td>White</td>\n",
       "      <td>Female</td>\n",
       "      <td>0</td>\n",
       "      <td>4356</td>\n",
       "      <td>40</td>\n",
       "      <td>United-States</td>\n",
       "      <td>&lt;=50K</td>\n",
       "    </tr>\n",
       "    <tr>\n",
       "      <th>1</th>\n",
       "      <td>82</td>\n",
       "      <td>Private</td>\n",
       "      <td>132870</td>\n",
       "      <td>HS-grad</td>\n",
       "      <td>9</td>\n",
       "      <td>Widowed</td>\n",
       "      <td>Exec-managerial</td>\n",
       "      <td>Not-in-family</td>\n",
       "      <td>White</td>\n",
       "      <td>Female</td>\n",
       "      <td>0</td>\n",
       "      <td>4356</td>\n",
       "      <td>18</td>\n",
       "      <td>United-States</td>\n",
       "      <td>&lt;=50K</td>\n",
       "    </tr>\n",
       "    <tr>\n",
       "      <th>2</th>\n",
       "      <td>66</td>\n",
       "      <td>?</td>\n",
       "      <td>186061</td>\n",
       "      <td>Some-college</td>\n",
       "      <td>10</td>\n",
       "      <td>Widowed</td>\n",
       "      <td>?</td>\n",
       "      <td>Unmarried</td>\n",
       "      <td>Black</td>\n",
       "      <td>Female</td>\n",
       "      <td>0</td>\n",
       "      <td>4356</td>\n",
       "      <td>40</td>\n",
       "      <td>United-States</td>\n",
       "      <td>&lt;=50K</td>\n",
       "    </tr>\n",
       "    <tr>\n",
       "      <th>3</th>\n",
       "      <td>54</td>\n",
       "      <td>Private</td>\n",
       "      <td>140359</td>\n",
       "      <td>7th-8th</td>\n",
       "      <td>4</td>\n",
       "      <td>Divorced</td>\n",
       "      <td>Machine-op-inspct</td>\n",
       "      <td>Unmarried</td>\n",
       "      <td>White</td>\n",
       "      <td>Female</td>\n",
       "      <td>0</td>\n",
       "      <td>3900</td>\n",
       "      <td>40</td>\n",
       "      <td>United-States</td>\n",
       "      <td>&lt;=50K</td>\n",
       "    </tr>\n",
       "    <tr>\n",
       "      <th>4</th>\n",
       "      <td>41</td>\n",
       "      <td>Private</td>\n",
       "      <td>264663</td>\n",
       "      <td>Some-college</td>\n",
       "      <td>10</td>\n",
       "      <td>Separated</td>\n",
       "      <td>Prof-specialty</td>\n",
       "      <td>Own-child</td>\n",
       "      <td>White</td>\n",
       "      <td>Female</td>\n",
       "      <td>0</td>\n",
       "      <td>3900</td>\n",
       "      <td>40</td>\n",
       "      <td>United-States</td>\n",
       "      <td>&lt;=50K</td>\n",
       "    </tr>\n",
       "  </tbody>\n",
       "</table>\n",
       "</div>"
      ],
      "text/plain": [
       "   age workclass  fnlwgt     education  education.num marital.status  \\\n",
       "0   90         ?   77053       HS-grad              9        Widowed   \n",
       "1   82   Private  132870       HS-grad              9        Widowed   \n",
       "2   66         ?  186061  Some-college             10        Widowed   \n",
       "3   54   Private  140359       7th-8th              4       Divorced   \n",
       "4   41   Private  264663  Some-college             10      Separated   \n",
       "\n",
       "          occupation   relationship   race     sex  capital.gain  \\\n",
       "0                  ?  Not-in-family  White  Female             0   \n",
       "1    Exec-managerial  Not-in-family  White  Female             0   \n",
       "2                  ?      Unmarried  Black  Female             0   \n",
       "3  Machine-op-inspct      Unmarried  White  Female             0   \n",
       "4     Prof-specialty      Own-child  White  Female             0   \n",
       "\n",
       "   capital.loss  hours.per.week native.country income  \n",
       "0          4356              40  United-States  <=50K  \n",
       "1          4356              18  United-States  <=50K  \n",
       "2          4356              40  United-States  <=50K  \n",
       "3          3900              40  United-States  <=50K  \n",
       "4          3900              40  United-States  <=50K  "
      ]
     },
     "execution_count": 3,
     "metadata": {},
     "output_type": "execute_result"
    }
   ],
   "source": [
    "df.head()"
   ]
  },
  {
   "cell_type": "code",
   "execution_count": 4,
   "metadata": {},
   "outputs": [
    {
     "data": {
      "text/plain": [
       "Index(['age', 'workclass', 'fnlwgt', 'education', 'education.num',\n",
       "       'marital.status', 'occupation', 'relationship', 'race', 'sex',\n",
       "       'capital.gain', 'capital.loss', 'hours.per.week', 'native.country',\n",
       "       'income'],\n",
       "      dtype='object')"
      ]
     },
     "execution_count": 4,
     "metadata": {},
     "output_type": "execute_result"
    }
   ],
   "source": [
    "df.columns"
   ]
  },
  {
   "cell_type": "code",
   "execution_count": 5,
   "metadata": {},
   "outputs": [
    {
     "data": {
      "text/plain": [
       "(32561, 15)"
      ]
     },
     "execution_count": 5,
     "metadata": {},
     "output_type": "execute_result"
    }
   ],
   "source": [
    "df.shape"
   ]
  },
  {
   "cell_type": "code",
   "execution_count": 6,
   "metadata": {},
   "outputs": [
    {
     "data": {
      "text/plain": [
       "age               0\n",
       "workclass         0\n",
       "fnlwgt            0\n",
       "education         0\n",
       "education.num     0\n",
       "marital.status    0\n",
       "occupation        0\n",
       "relationship      0\n",
       "race              0\n",
       "sex               0\n",
       "capital.gain      0\n",
       "capital.loss      0\n",
       "hours.per.week    0\n",
       "native.country    0\n",
       "income            0\n",
       "dtype: int64"
      ]
     },
     "execution_count": 6,
     "metadata": {},
     "output_type": "execute_result"
    }
   ],
   "source": [
    "df.isnull().sum()        "
   ]
  },
  {
   "cell_type": "code",
   "execution_count": 7,
   "metadata": {},
   "outputs": [
    {
     "data": {
      "image/png": "[encoded data removed]",
      "text/plain": [
       "<Figure size 504x504 with 2 Axes>"
      ]
     },
     "metadata": {
      "needs_background": "light"
     },
     "output_type": "display_data"
    }
   ],
   "source": [
    "corrmat = df.corr()\n",
    "f, ax = plt.subplots(figsize=(7, 7))\n",
    "sns.heatmap(corrmat, vmax=.8, square=True);"
   ]
  },
  {
   "cell_type": "code",
   "execution_count": 8,
   "metadata": {},
   "outputs": [
    {
     "name": "stdout",
     "output_type": "stream",
     "text": [
      "<class 'pandas.core.frame.DataFrame'>\n",
      "RangeIndex: 32561 entries, 0 to 32560\n",
      "Data columns (total 15 columns):\n",
      "age               32561 non-null int64\n",
      "workclass         32561 non-null object\n",
      "fnlwgt            32561 non-null int64\n",
      "education         32561 non-null object\n",
      "education.num     32561 non-null int64\n",
      "marital.status    32561 non-null object\n",
      "occupation        32561 non-null object\n",
      "relationship      32561 non-null object\n",
      "race              32561 non-null object\n",
      "sex               32561 non-null object\n",
      "capital.gain      32561 non-null int64\n",
      "capital.loss      32561 non-null int64\n",
      "hours.per.week    32561 non-null int64\n",
      "native.country    32561 non-null object\n",
      "income            32561 non-null object\n",
      "dtypes: int64(6), object(9)\n",
      "memory usage: 3.7+ MB\n"
     ]
    }
   ],
   "source": [
    "df.info()"
   ]
  },
  {
   "cell_type": "code",
   "execution_count": 9,
   "metadata": {},
   "outputs": [
    {
     "data": {
      "text/html": [
       "<div>\n",
       "<style scoped>\n",
       "    .dataframe tbody tr th:only-of-type {\n",
       "        vertical-align: middle;\n",
       "    }\n",
       "\n",
       "    .dataframe tbody tr th {\n",
       "        vertical-align: top;\n",
       "    }\n",
       "\n",
       "    .dataframe thead th {\n",
       "        text-align: right;\n",
       "    }\n",
       "</style>\n",
       "<table border=\"1\" class=\"dataframe\">\n",
       "  <thead>\n",
       "    <tr style=\"text-align: right;\">\n",
       "      <th></th>\n",
       "      <th>age</th>\n",
       "      <th>workclass</th>\n",
       "      <th>fnlwgt</th>\n",
       "      <th>education</th>\n",
       "      <th>education.num</th>\n",
       "      <th>marital.status</th>\n",
       "      <th>occupation</th>\n",
       "      <th>relationship</th>\n",
       "      <th>race</th>\n",
       "      <th>sex</th>\n",
       "      <th>capital.gain</th>\n",
       "      <th>capital.loss</th>\n",
       "      <th>hours.per.week</th>\n",
       "      <th>native.country</th>\n",
       "      <th>income</th>\n",
       "    </tr>\n",
       "  </thead>\n",
       "  <tbody>\n",
       "    <tr>\n",
       "      <th>0</th>\n",
       "      <td>72</td>\n",
       "      <td>0</td>\n",
       "      <td>2649</td>\n",
       "      <td>11</td>\n",
       "      <td>8</td>\n",
       "      <td>6</td>\n",
       "      <td>0</td>\n",
       "      <td>1</td>\n",
       "      <td>4</td>\n",
       "      <td>0</td>\n",
       "      <td>0</td>\n",
       "      <td>91</td>\n",
       "      <td>39</td>\n",
       "      <td>39</td>\n",
       "      <td>0</td>\n",
       "    </tr>\n",
       "    <tr>\n",
       "      <th>1</th>\n",
       "      <td>65</td>\n",
       "      <td>4</td>\n",
       "      <td>6514</td>\n",
       "      <td>11</td>\n",
       "      <td>8</td>\n",
       "      <td>6</td>\n",
       "      <td>4</td>\n",
       "      <td>1</td>\n",
       "      <td>4</td>\n",
       "      <td>0</td>\n",
       "      <td>0</td>\n",
       "      <td>91</td>\n",
       "      <td>17</td>\n",
       "      <td>39</td>\n",
       "      <td>0</td>\n",
       "    </tr>\n",
       "    <tr>\n",
       "      <th>2</th>\n",
       "      <td>49</td>\n",
       "      <td>0</td>\n",
       "      <td>11175</td>\n",
       "      <td>15</td>\n",
       "      <td>9</td>\n",
       "      <td>6</td>\n",
       "      <td>0</td>\n",
       "      <td>4</td>\n",
       "      <td>2</td>\n",
       "      <td>0</td>\n",
       "      <td>0</td>\n",
       "      <td>91</td>\n",
       "      <td>39</td>\n",
       "      <td>39</td>\n",
       "      <td>0</td>\n",
       "    </tr>\n",
       "    <tr>\n",
       "      <th>3</th>\n",
       "      <td>37</td>\n",
       "      <td>4</td>\n",
       "      <td>7009</td>\n",
       "      <td>5</td>\n",
       "      <td>3</td>\n",
       "      <td>0</td>\n",
       "      <td>7</td>\n",
       "      <td>4</td>\n",
       "      <td>4</td>\n",
       "      <td>0</td>\n",
       "      <td>0</td>\n",
       "      <td>90</td>\n",
       "      <td>39</td>\n",
       "      <td>39</td>\n",
       "      <td>0</td>\n",
       "    </tr>\n",
       "    <tr>\n",
       "      <th>4</th>\n",
       "      <td>24</td>\n",
       "      <td>4</td>\n",
       "      <td>16850</td>\n",
       "      <td>15</td>\n",
       "      <td>9</td>\n",
       "      <td>5</td>\n",
       "      <td>10</td>\n",
       "      <td>3</td>\n",
       "      <td>4</td>\n",
       "      <td>0</td>\n",
       "      <td>0</td>\n",
       "      <td>90</td>\n",
       "      <td>39</td>\n",
       "      <td>39</td>\n",
       "      <td>0</td>\n",
       "    </tr>\n",
       "  </tbody>\n",
       "</table>\n",
       "</div>"
      ],
      "text/plain": [
       "   age  workclass  fnlwgt  education  education.num  marital.status  \\\n",
       "0   72          0    2649         11              8               6   \n",
       "1   65          4    6514         11              8               6   \n",
       "2   49          0   11175         15              9               6   \n",
       "3   37          4    7009          5              3               0   \n",
       "4   24          4   16850         15              9               5   \n",
       "\n",
       "   occupation  relationship  race  sex  capital.gain  capital.loss  \\\n",
       "0           0             1     4    0             0            91   \n",
       "1           4             1     4    0             0            91   \n",
       "2           0             4     2    0             0            91   \n",
       "3           7             4     4    0             0            90   \n",
       "4          10             3     4    0             0            90   \n",
       "\n",
       "   hours.per.week  native.country  income  \n",
       "0              39              39       0  \n",
       "1              17              39       0  \n",
       "2              39              39       0  \n",
       "3              39              39       0  \n",
       "4              39              39       0  "
      ]
     },
     "execution_count": 9,
     "metadata": {},
     "output_type": "execute_result"
    }
   ],
   "source": [
    "df1 = df.apply(LabelEncoder().fit_transform)\n",
    "df1.head()"
   ]
  },
  {
   "cell_type": "code",
   "execution_count": 12,
   "metadata": {},
   "outputs": [
    {
     "name": "stdout",
     "output_type": "stream",
     "text": [
      "The accuracy of the Gboost classifier with Label Encoding & 10 fold cross-validation is 0.8069525833227091\n"
     ]
    }
   ],
   "source": [
    "columns = ['income']\n",
    "y = df1['income']\n",
    "X = df1.drop(columns, axis=1)\n",
    "\n",
    "gb = GradientBoostingClassifier()\n",
    "gb_scores = cross_val_score(gb, X, y, cv=10, scoring='accuracy')\n",
    "print('The accuracy of the Gboost classifier with Label Encoding & 10 fold cross-validation is ' + str(gb_scores.mean()))"
   ]
  },
  {
   "cell_type": "code",
   "execution_count": 14,
   "metadata": {},
   "outputs": [
    {
     "name": "stdout",
     "output_type": "stream",
     "text": [
      "The accuracy of the Gboost classifier with OneHot Encoding & 10 fold cross-validation is 0.8044345329922548\n"
     ]
    }
   ],
   "source": [
    "y = df['income']\n",
    "df_train_OneHot = df.drop(columns, axis=1)\n",
    "df_train_OneHot = pd.get_dummies(df_train_OneHot)\n",
    "df_train_OneHot.head()\n",
    "X = df_train_OneHot\n",
    "\n",
    "gb = GradientBoostingClassifier()\n",
    "gb_scores = cross_val_score(gb, X, y, cv=10, scoring='accuracy')\n",
    "print('The accuracy of the Gboost classifier with OneHot Encoding & 10 fold cross-validation is ' + str(gb_scores.mean()))"
   ]
  },
  {
   "cell_type": "code",
   "execution_count": 15,
   "metadata": {},
   "outputs": [
    {
     "name": "stdout",
     "output_type": "stream",
     "text": [
      "The accuracy of the knn classifier with 10 fold cross-validation is 0.761590967555045\n",
      "[0.59809641 0.97635135 0.74907862 0.75429975 0.75737101 0.75706388\n",
      " 0.75737101 0.75337838 0.75583538 0.75706388]\n",
      "Knn Mean score :  0.761590967555045\n",
      "Knn Score variance :  0.0073239392601850434\n"
     ]
    }
   ],
   "source": [
    "from sklearn.neighbors import KNeighborsClassifier\n",
    "knn = KNeighborsClassifier(n_neighbors=10)\n",
    "knn_scores = cross_val_score(knn, X, y, cv=10, scoring='accuracy')\n",
    "print('The accuracy of the knn classifier with 10 fold cross-validation is ' + str(knn_scores.mean()))\n",
    "print(knn_scores)\n",
    "\n",
    "knn_cv_mean = np.mean(knn_scores)\n",
    "knn_cv_variance = np.var(knn_scores)\n",
    "\n",
    "print('Knn Mean score : ', knn_cv_mean)\n",
    "print('Knn Score variance : ', knn_cv_variance)"
   ]
  },
  {
   "cell_type": "code",
   "execution_count": 16,
   "metadata": {},
   "outputs": [
    {
     "name": "stdout",
     "output_type": "stream",
     "text": [
      "The accuracy of the logistic Regression classifier with 10 fold cross-validation is 0.6686612146659737\n",
      "[0.39085048 0.69226044 0.7463145  0.69318182 0.6529484  0.66492629\n",
      " 0.75921376 0.65571253 0.75921376 0.67199017]\n",
      "logreg Mean score :  0.6686612146659737\n",
      "logreg Score variance :  0.010120614140142514\n"
     ]
    }
   ],
   "source": [
    "from sklearn.linear_model import LogisticRegression\n",
    "logreg = LogisticRegression(class_weight='balanced', multi_class='multinomial', solver='lbfgs')\n",
    "\n",
    "logreg_scores = cross_val_score(logreg, X, y, cv=10, scoring='accuracy')\n",
    "print('The accuracy of the logistic Regression classifier with 10 fold cross-validation is ' + str(logreg_scores.mean()))\n",
    "\n",
    "print(logreg_scores)\n",
    "logreg_cv_mean = np.mean(logreg_scores)\n",
    "logreg_cv_variance = np.var(logreg_scores)\n",
    "\n",
    "print('logreg Mean score : ', logreg_cv_mean)\n",
    "print('logreg Score variance : ', logreg_cv_variance)"
   ]
  },
  {
   "cell_type": "code",
   "execution_count": 17,
   "metadata": {},
   "outputs": [
    {
     "name": "stdout",
     "output_type": "stream",
     "text": [
      "The accuracy of the Random forest classifier with 10 fold cross-validation is 0.7793473742813626\n",
      "[0.4494934  1.         1.         0.78869779 0.75921376 0.75921376\n",
      " 0.75921376 0.75921376 0.75921376 0.75921376]\n",
      "logreg Mean score :  0.7793473742813626\n",
      "logreg Score variance :  0.020869841257586248\n"
     ]
    }
   ],
   "source": [
    "from sklearn.naive_bayes import MultinomialNB\n",
    "NB = MultinomialNB()\n",
    "NB_scores = cross_val_score(NB, X, y, cv=10, scoring='accuracy')\n",
    "print('The accuracy of the Random forest classifier with 10 fold cross-validation is ' + str(NB_scores.mean()))\n",
    "print(NB_scores)\n",
    "NB_cv_mean = np.mean(NB_scores)\n",
    "NB_cv_variance = np.var(NB_scores)\n",
    "\n",
    "print('logreg Mean score : ', NB_cv_mean)\n",
    "print('logreg Score variance : ', NB_cv_variance)"
   ]
  },
  {
   "cell_type": "code",
   "execution_count": 18,
   "metadata": {},
   "outputs": [
    {
     "name": "stdout",
     "output_type": "stream",
     "text": [
      "The accuracy of the Random forest classifier with 10 fold cross-validation is 0.8001348729894937\n",
      "[0.60853546 0.91953317 0.77334152 0.79238329 0.81541769 0.80927518\n",
      " 0.82616708 0.82002457 0.82616708 0.81050369]\n",
      "forest Mean score :  0.8001348729894937\n",
      "forest Score variance :  0.005391983138961175\n"
     ]
    }
   ],
   "source": [
    "from sklearn.ensemble import RandomForestClassifier\n",
    "forest = RandomForestClassifier()\n",
    "forest_scores = cross_val_score(forest, X, y, cv=10, scoring='accuracy')\n",
    "print('The accuracy of the Random forest classifier with 10 fold cross-validation is ' + str(forest_scores.mean()))\n",
    "print(forest_scores)\n",
    "forest_cv_mean = np.mean(forest_scores)\n",
    "forest_cv_variance = np.var(forest_scores)\n",
    "\n",
    "print('forest Mean score : ', forest_cv_mean)\n",
    "print('forest Score variance : ', forest_cv_variance)"
   ]
  },
  {
   "cell_type": "code",
   "execution_count": 22,
   "metadata": {},
   "outputs": [
    {
     "name": "stdout",
     "output_type": "stream",
     "text": [
      "The accuracy of the Random forest classifier with 10 fold cross-validation is 0.8043731079308298\n",
      "[0.61160577 0.87684275 0.75214988 0.82002457 0.82708845 0.82340295\n",
      " 0.84029484 0.83138821 0.83906634 0.82186732]\n",
      "gb Mean score :  0.8043731079308298\n",
      "gb Score variance :  0.004979130501607788\n"
     ]
    }
   ],
   "source": [
    "\n",
    "gb = GradientBoostingClassifier()\n",
    "\n",
    "\n",
    "gb_scores = cross_val_score(gb, X, y, cv=10, scoring='accuracy')\n",
    "print('The accuracy of the Random forest classifier with 10 fold cross-validation is ' + str(gb_scores.mean()))\n",
    "\n",
    "\n",
    "\n",
    "print(gb_scores)\n",
    "gb_cv_mean = np.mean(gb_scores)\n",
    "gb_cv_variance = np.var(gb_scores)\n",
    "\n",
    "print('gb Mean score : ', gb_cv_mean)\n",
    "print('gb Score variance : ', gb_cv_variance)"
   ]
  },
  {
   "cell_type": "code",
   "execution_count": 23,
   "metadata": {},
   "outputs": [
    {
     "data": {
      "text/html": [
       "<div>\n",
       "<style scoped>\n",
       "    .dataframe tbody tr th:only-of-type {\n",
       "        vertical-align: middle;\n",
       "    }\n",
       "\n",
       "    .dataframe tbody tr th {\n",
       "        vertical-align: top;\n",
       "    }\n",
       "\n",
       "    .dataframe thead th {\n",
       "        text-align: right;\n",
       "    }\n",
       "</style>\n",
       "<table border=\"1\" class=\"dataframe\">\n",
       "  <thead>\n",
       "    <tr style=\"text-align: right;\">\n",
       "      <th></th>\n",
       "      <th>Classifier</th>\n",
       "      <th>Mean</th>\n",
       "      <th>Variance</th>\n",
       "    </tr>\n",
       "  </thead>\n",
       "  <tbody>\n",
       "    <tr>\n",
       "      <th>0</th>\n",
       "      <td>Knn</td>\n",
       "      <td>0.761591</td>\n",
       "      <td>0.007324</td>\n",
       "    </tr>\n",
       "    <tr>\n",
       "      <th>1</th>\n",
       "      <td>Logistic Regeression</td>\n",
       "      <td>0.668661</td>\n",
       "      <td>0.010121</td>\n",
       "    </tr>\n",
       "    <tr>\n",
       "      <th>2</th>\n",
       "      <td>Naive Bayesian</td>\n",
       "      <td>0.779347</td>\n",
       "      <td>0.020870</td>\n",
       "    </tr>\n",
       "    <tr>\n",
       "      <th>3</th>\n",
       "      <td>Random Forest</td>\n",
       "      <td>0.800135</td>\n",
       "      <td>0.005392</td>\n",
       "    </tr>\n",
       "    <tr>\n",
       "      <th>4</th>\n",
       "      <td>Gradient Boost</td>\n",
       "      <td>0.804373</td>\n",
       "      <td>0.004979</td>\n",
       "    </tr>\n",
       "  </tbody>\n",
       "</table>\n",
       "</div>"
      ],
      "text/plain": [
       "             Classifier      Mean  Variance\n",
       "0                   Knn  0.761591  0.007324\n",
       "1  Logistic Regeression  0.668661  0.010121\n",
       "2        Naive Bayesian  0.779347  0.020870\n",
       "3         Random Forest  0.800135  0.005392\n",
       "4        Gradient Boost  0.804373  0.004979"
      ]
     },
     "execution_count": 23,
     "metadata": {},
     "output_type": "execute_result"
    }
   ],
   "source": [
    "classifiers = { }\n",
    "classifiers['Classifier'] = ['Knn','Logistic Regeression','Naive Bayesian','Random Forest', 'Gradient Boost']\n",
    "classifiers['Mean'] = [knn_cv_mean, logreg_cv_mean, NB_cv_mean,forest_cv_mean, gb_cv_mean]\n",
    "classifiers['Variance'] = [knn_cv_variance, logreg_cv_variance, NB_cv_variance,  forest_cv_variance, gb_cv_variance]\n",
    "classifiers = pd.DataFrame(classifiers)\n",
    "classifiers"
   ]
  },
  {
   "cell_type": "code",
   "execution_count": 24,
   "metadata": {},
   "outputs": [],
   "source": [
    "from sklearn.model_selection import GridSearchCV\n",
    "from sklearn.metrics import classification_report"
   ]
  },
  {
   "cell_type": "code",
   "execution_count": 25,
   "metadata": {},
   "outputs": [
    {
     "name": "stdout",
     "output_type": "stream",
     "text": [
      "Best n_estimator found for GradientBoosting Classifier:\n",
      "{'n_estimators': 50}\n",
      "\n",
      "Scores on training set:\n",
      "0.809 (+/-0.141) for {'n_estimators': 50}\n",
      "0.804 (+/-0.141) for {'n_estimators': 100}\n",
      "0.803 (+/-0.144) for {'n_estimators': 125}\n",
      "0.803 (+/-0.148) for {'n_estimators': 150}\n",
      "\n"
     ]
    }
   ],
   "source": [
    "gb = GradientBoostingClassifier()\n",
    "\n",
    "param_grid = [\n",
    "              {'n_estimators': [50,100,125,150]}]\n",
    "\n",
    "\n",
    "grid = GridSearchCV(gb, param_grid, cv=10, scoring='accuracy')\n",
    "grid.fit(X, y)\n",
    "\n",
    "print(\"Best n_estimator found for GradientBoosting Classifier:\")\n",
    "print(grid.best_params_)\n",
    "print()\n",
    "\n",
    "print(\"Scores on training set:\")\n",
    "means = grid.cv_results_['mean_test_score']\n",
    "stds = grid.cv_results_['std_test_score']\n",
    "for mean, std, params in zip(means, stds, grid.cv_results_['params']):\n",
    "    print(\"%0.3f (+/-%0.03f) for %r\"\n",
    "          % (mean, std * 2, params))\n",
    "print()\n"
   ]
  },
  {
   "cell_type": "code",
   "execution_count": 26,
   "metadata": {},
   "outputs": [
    {
     "name": "stdout",
     "output_type": "stream",
     "text": [
      "Best max_depth found for GradientBoosting Classifier:\n",
      "{'max_depth': 5}\n",
      "\n",
      "Scores on training set:\n",
      "0.804 (+/-0.141) for {'max_depth': 3}\n",
      "0.807 (+/-0.151) for {'max_depth': 5}\n",
      "0.807 (+/-0.140) for {'max_depth': 7}\n",
      "0.806 (+/-0.142) for {'max_depth': 9}\n",
      "0.802 (+/-0.143) for {'max_depth': 11}\n",
      "0.797 (+/-0.143) for {'max_depth': 15}\n",
      "\n"
     ]
    }
   ],
   "source": [
    "param_grid = [{'max_depth': [3,5,7,9,11,15]}]\n",
    "\n",
    "grid = GridSearchCV(gb, param_grid, cv=10, scoring='accuracy')\n",
    "grid.fit(X, y)\n",
    "\n",
    "print(\"Best max_depth found for GradientBoosting Classifier:\")\n",
    "print(grid.best_params_)\n",
    "print()\n",
    "\n",
    "print(\"Scores on training set:\")\n",
    "means = grid.cv_results_['mean_test_score']\n",
    "stds = grid.cv_results_['std_test_score']\n",
    "for mean, std, params in zip(means, stds, grid.cv_results_['params']):\n",
    "    print(\"%0.3f (+/-%0.03f) for %r\"\n",
    "          % (mean, std * 2, params))\n",
    "print()\n"
   ]
  },
  {
   "cell_type": "code",
   "execution_count": 27,
   "metadata": {},
   "outputs": [
    {
     "name": "stdout",
     "output_type": "stream",
     "text": [
      "Best max_features found for GradientBoosting Classifier:\n",
      "{'max_features': 3}\n",
      "\n",
      "Scores on training set:\n",
      "0.825 (+/-0.116) for {'max_features': 3}\n",
      "0.820 (+/-0.153) for {'max_features': 5}\n",
      "0.816 (+/-0.159) for {'max_features': 7}\n",
      "0.814 (+/-0.159) for {'max_features': 9}\n",
      "\n"
     ]
    }
   ],
   "source": [
    "gb = GradientBoostingClassifier(n_estimators= 125, max_depth = 5,learning_rate = 0.1)\n",
    "\n",
    "param_grid = [{'max_features': [3,5,7,9]}]\n",
    "\n",
    "grid = GridSearchCV(gb, param_grid, cv=10, scoring='accuracy')\n",
    "grid.fit(X, y)\n",
    "\n",
    "print(\"Best max_features found for GradientBoosting Classifier:\")\n",
    "print(grid.best_params_)\n",
    "print()\n",
    "\n",
    "print(\"Scores on training set:\")\n",
    "means = grid.cv_results_['mean_test_score']\n",
    "stds = grid.cv_results_['std_test_score']\n",
    "for mean, std, params in zip(means, stds, grid.cv_results_['params']):\n",
    "    print(\"%0.3f (+/-%0.03f) for %r\"\n",
    "          % (mean, std * 2, params))\n",
    "print()"
   ]
  },
  {
   "cell_type": "code",
   "execution_count": 28,
   "metadata": {},
   "outputs": [
    {
     "name": "stdout",
     "output_type": "stream",
     "text": [
      "Best min_samples_split found for GradientBoosting Classifier:\n",
      "{'min_samples_split': 2000}\n",
      "\n",
      "Scores on training set:\n",
      "0.819 (+/-0.154) for {'min_samples_split': 500}\n",
      "0.821 (+/-0.150) for {'min_samples_split': 1000}\n",
      "0.818 (+/-0.154) for {'min_samples_split': 1250}\n",
      "0.822 (+/-0.139) for {'min_samples_split': 1500}\n",
      "0.823 (+/-0.135) for {'min_samples_split': 2000}\n",
      "\n"
     ]
    }
   ],
   "source": [
    "gb = GradientBoostingClassifier(n_estimators= 125, max_depth = 5,learning_rate = 0.1,max_features=5)\n",
    "\n",
    "param_grid = [{'min_samples_split': [500,1000,1250,1500,2000]}]\n",
    "\n",
    "grid = GridSearchCV(gb, param_grid, cv=10, scoring='accuracy')\n",
    "grid.fit(X, y)\n",
    "\n",
    "print(\"Best min_samples_split found for GradientBoosting Classifier:\")\n",
    "print(grid.best_params_)\n",
    "print()\n",
    "\n",
    "print(\"Scores on training set:\")\n",
    "means = grid.cv_results_['mean_test_score']\n",
    "stds = grid.cv_results_['std_test_score']\n",
    "for mean, std, params in zip(means, stds, grid.cv_results_['params']):\n",
    "    print(\"%0.3f (+/-%0.03f) for %r\"\n",
    "          % (mean, std * 2, params))\n",
    "print()"
   ]
  },
  {
   "cell_type": "code",
   "execution_count": 29,
   "metadata": {},
   "outputs": [
    {
     "name": "stdout",
     "output_type": "stream",
     "text": [
      "Best set of parameters found:\n",
      "{'n_neighbors': 80}\n",
      "\n",
      "Scores on training set:\n",
      "0.762 (+/-0.171) for {'n_neighbors': 10}\n",
      "0.770 (+/-0.159) for {'n_neighbors': 20}\n",
      "0.772 (+/-0.150) for {'n_neighbors': 30}\n",
      "0.774 (+/-0.144) for {'n_neighbors': 40}\n",
      "0.774 (+/-0.135) for {'n_neighbors': 50}\n",
      "0.774 (+/-0.128) for {'n_neighbors': 60}\n",
      "0.774 (+/-0.122) for {'n_neighbors': 70}\n",
      "0.774 (+/-0.118) for {'n_neighbors': 80}\n",
      "0.774 (+/-0.109) for {'n_neighbors': 90}\n",
      "0.773 (+/-0.105) for {'n_neighbors': 100}\n",
      "0.773 (+/-0.101) for {'n_neighbors': 110}\n",
      "0.773 (+/-0.096) for {'n_neighbors': 120}\n",
      "0.773 (+/-0.091) for {'n_neighbors': 130}\n",
      "0.773 (+/-0.088) for {'n_neighbors': 140}\n",
      "0.772 (+/-0.083) for {'n_neighbors': 150}\n",
      "0.772 (+/-0.081) for {'n_neighbors': 160}\n",
      "0.771 (+/-0.075) for {'n_neighbors': 170}\n",
      "0.771 (+/-0.072) for {'n_neighbors': 180}\n",
      "0.770 (+/-0.066) for {'n_neighbors': 190}\n",
      "0.769 (+/-0.061) for {'n_neighbors': 200}\n",
      "\n"
     ]
    }
   ],
   "source": [
    "k_range = list(range(10,201,10))\n",
    "param_grid = dict(n_neighbors=k_range)\n",
    "\n",
    "grid = GridSearchCV(knn, param_grid, cv=10, scoring='accuracy')\n",
    "grid.fit(X, y)\n",
    "\n",
    "print(\"Best set of parameters found:\")\n",
    "print(grid.best_params_)\n",
    "print()\n",
    "\n",
    "print(\"Scores on training set:\")\n",
    "means = grid.cv_results_['mean_test_score']\n",
    "stds = grid.cv_results_['std_test_score']\n",
    "for mean, std, params in zip(means, stds, grid.cv_results_['params']):\n",
    "    print(\"%0.3f (+/-%0.03f) for %r\"\n",
    "          % (mean, std * 2, params))\n",
    "print()"
   ]
  },
  {
   "cell_type": "code",
   "execution_count": 30,
   "metadata": {},
   "outputs": [
    {
     "name": "stdout",
     "output_type": "stream",
     "text": [
      "Best set of parameters found:\n",
      "{'C': 83.335}\n",
      "\n",
      "Scores on training set:\n",
      "0.769 (+/-0.267) for {'C': 0.01}\n",
      "0.769 (+/-0.267) for {'C': 4.17625}\n",
      "0.769 (+/-0.267) for {'C': 8.3425}\n",
      "0.769 (+/-0.267) for {'C': 12.50875}\n",
      "0.769 (+/-0.267) for {'C': 16.675}\n",
      "0.769 (+/-0.267) for {'C': 20.84125}\n",
      "0.769 (+/-0.267) for {'C': 25.0075}\n",
      "0.769 (+/-0.267) for {'C': 29.173750000000002}\n",
      "0.769 (+/-0.267) for {'C': 33.339999999999996}\n",
      "0.769 (+/-0.267) for {'C': 37.506249999999994}\n",
      "0.769 (+/-0.267) for {'C': 41.67249999999999}\n",
      "0.769 (+/-0.267) for {'C': 45.83875}\n",
      "0.769 (+/-0.267) for {'C': 50.004999999999995}\n",
      "0.769 (+/-0.267) for {'C': 54.17124999999999}\n",
      "0.769 (+/-0.267) for {'C': 58.3375}\n",
      "0.769 (+/-0.267) for {'C': 62.50375}\n",
      "0.769 (+/-0.267) for {'C': 66.67}\n",
      "0.769 (+/-0.267) for {'C': 70.83625}\n",
      "0.769 (+/-0.267) for {'C': 75.0025}\n",
      "0.769 (+/-0.267) for {'C': 79.16875}\n",
      "0.770 (+/-0.268) for {'C': 83.335}\n",
      "0.769 (+/-0.267) for {'C': 87.50125}\n",
      "0.769 (+/-0.267) for {'C': 91.6675}\n",
      "0.769 (+/-0.267) for {'C': 95.83375}\n",
      "0.769 (+/-0.267) for {'C': 100.0}\n",
      "\n"
     ]
    }
   ],
   "source": [
    "logreg = LogisticRegression(random_state=0)\n",
    "param_grid = {'C':np.linspace(0.01, 100, 25)}\n",
    "\n",
    "grid = GridSearchCV(logreg, param_grid, cv=10, scoring='accuracy')\n",
    "grid.fit(X, y)\n",
    "\n",
    "print(\"Best set of parameters found:\")\n",
    "print(grid.best_params_)\n",
    "print()\n",
    "\n",
    "print(\"Scores on training set:\")\n",
    "means = grid.cv_results_['mean_test_score']\n",
    "stds = grid.cv_results_['std_test_score']\n",
    "for mean, std, params in zip(means, stds, grid.cv_results_['params']):\n",
    "    print(\"%0.3f (+/-%0.03f) for %r\"\n",
    "          % (mean, std * 2, params))\n",
    "print()"
   ]
  },
  {
   "cell_type": "code",
   "execution_count": 31,
   "metadata": {},
   "outputs": [
    {
     "name": "stdout",
     "output_type": "stream",
     "text": [
      "Best set of parameters found:\n",
      "{'alpha': 1.0}\n",
      "\n",
      "Scores on training set:\n",
      "0.779 (+/-0.289) for {'alpha': 0.01}\n",
      "0.779 (+/-0.289) for {'alpha': 0.1}\n",
      "0.779 (+/-0.289) for {'alpha': 1.0}\n",
      "\n"
     ]
    }
   ],
   "source": [
    "NB = MultinomialNB()\n",
    "\n",
    "param_grid = [{'alpha': [0.01, 0.1, 1.0]}]\n",
    "\n",
    "grid = GridSearchCV(NB, param_grid, cv=10, scoring='accuracy')\n",
    "grid.fit(X, y)\n",
    "\n",
    "print(\"Best set of parameters found:\")\n",
    "print(grid.best_params_)\n",
    "print()\n",
    "\n",
    "print(\"Scores on training set:\")\n",
    "means = grid.cv_results_['mean_test_score']\n",
    "stds = grid.cv_results_['std_test_score']\n",
    "for mean, std, params in zip(means, stds, grid.cv_results_['params']):\n",
    "    print(\"%0.3f (+/-%0.03f) for %r\"\n",
    "          % (mean, std * 2, params))\n",
    "print()"
   ]
  },
  {
   "cell_type": "code",
   "execution_count": null,
   "metadata": {},
   "outputs": [],
   "source": []
  }
 ],
 "metadata": {
  "kernelspec": {
   "display_name": "Python 3",
   "language": "python",
   "name": "python3"
  },
  "language_info": {
   "codemirror_mode": {
    "name": "ipython",
    "version": 3
   },
   "file_extension": ".py",
   "mimetype": "text/x-python",
   "name": "python",
   "nbconvert_exporter": "python",
   "pygments_lexer": "ipython3",
   "version": "3.7.3"
  }
 },
 "nbformat": 4,
 "nbformat_minor": 2
}
