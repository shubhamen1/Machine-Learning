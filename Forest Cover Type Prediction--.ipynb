{
 "cells": [
  {
   "cell_type": "markdown",
   "metadata": {},
   "source": [
    "# Business Problem:\n",
    "\n",
    "- Prediction of various Forest cover types from the aforementioned categories given in the data using Cartographic variables as the target variable to get accurate predictions viable for state, private and federal agencies.\n",
    "- Which one among Elevation, Slope & Aspect actually turn out to improve predictions in the best possible way?\n"
   ]
  },
  {
   "cell_type": "markdown",
   "metadata": {},
   "source": [
    "# Understanding the variables\n",
    "\n",
    "- The azimuth is the angular direction of the sun, measured from north in clockwise degrees from 0 to 360. An azimuth of 90 degrees is east. The default azimuth is 315 degrees (NW)."
   ]
  },
  {
   "cell_type": "code",
   "execution_count": 1,
   "metadata": {
    "colab": {},
    "colab_type": "code",
    "id": "mpOXGJ-4LnhG"
   },
   "outputs": [],
   "source": [
    "import pandas as pd\n",
    "import numpy as np\n",
    "import matplotlib.pyplot as plt\n",
    "import seaborn as sns\n",
    "from sklearn.pipeline import Pipeline\n",
    "from sklearn.preprocessing import StandardScaler, LabelEncoder, PowerTransformer, MinMaxScaler, RobustScaler\n",
    "from sklearn.ensemble import RandomForestClassifier, AdaBoostClassifier, BaggingClassifier, GradientBoostingClassifier\n",
    "from sklearn.naive_bayes import GaussianNB\n",
    "from sklearn.svm import SVC\n",
    "from sklearn.neighbors import KNeighborsClassifier\n",
    "from sklearn.tree import DecisionTreeClassifier\n",
    "from sklearn.model_selection import train_test_split, KFold, cross_val_score, StratifiedKFold, cross_val_predict, GroupKFold\n",
    "from sklearn.metrics import classification_report, cohen_kappa_score, confusion_matrix, f1_score\n",
    "from xgboost.sklearn import XGBClassifier\n",
    "from sklearn.linear_model import LogisticRegression\n",
    "import warnings\n",
    "warnings.filterwarnings('ignore')"
   ]
  },
  {
   "cell_type": "code",
   "execution_count": 2,
   "metadata": {
    "colab": {},
    "colab_type": "code",
    "id": "rhwHNbdwMHMd"
   },
   "outputs": [],
   "source": [
    "#from google.colab import drive\n",
    "#drive.mount('/content/drive')\n",
    "\n",
    "path = '/content/drive/My Drive/Colab Notebooks/covtype_rem_dummies.csv'\n",
    "df = pd.read_csv('covtype_rem_dummies.csv')"
   ]
  },
  {
   "cell_type": "code",
   "execution_count": 3,
   "metadata": {
    "colab": {},
    "colab_type": "code",
    "id": "RDdW779pLnhP",
    "scrolled": true
   },
   "outputs": [
    {
     "data": {
      "text/html": [
       "<div>\n",
       "<style scoped>\n",
       "    .dataframe tbody tr th:only-of-type {\n",
       "        vertical-align: middle;\n",
       "    }\n",
       "\n",
       "    .dataframe tbody tr th {\n",
       "        vertical-align: top;\n",
       "    }\n",
       "\n",
       "    .dataframe thead th {\n",
       "        text-align: right;\n",
       "    }\n",
       "</style>\n",
       "<table border=\"1\" class=\"dataframe\">\n",
       "  <thead>\n",
       "    <tr style=\"text-align: right;\">\n",
       "      <th></th>\n",
       "      <th>Unnamed: 0</th>\n",
       "      <th>Elevation</th>\n",
       "      <th>Aspect</th>\n",
       "      <th>Slope</th>\n",
       "      <th>Horizontal_Distance_To_Hydrology</th>\n",
       "      <th>Vertical_Distance_To_Hydrology</th>\n",
       "      <th>Horizontal_Distance_To_Roadways</th>\n",
       "      <th>Hillshade_9am</th>\n",
       "      <th>Hillshade_Noon</th>\n",
       "      <th>Hillshade_3pm</th>\n",
       "      <th>Horizontal_Distance_To_Fire_Points</th>\n",
       "      <th>Forest_Cover_Type_designation</th>\n",
       "      <th>Soil_types</th>\n",
       "      <th>Winderness_types</th>\n",
       "    </tr>\n",
       "  </thead>\n",
       "  <tbody>\n",
       "    <tr>\n",
       "      <td>0</td>\n",
       "      <td>0</td>\n",
       "      <td>2596</td>\n",
       "      <td>51</td>\n",
       "      <td>3</td>\n",
       "      <td>258</td>\n",
       "      <td>0</td>\n",
       "      <td>510</td>\n",
       "      <td>221</td>\n",
       "      <td>232</td>\n",
       "      <td>148</td>\n",
       "      <td>6279</td>\n",
       "      <td>5</td>\n",
       "      <td>Soil_Type_29</td>\n",
       "      <td>Wilderness_Area_1</td>\n",
       "    </tr>\n",
       "    <tr>\n",
       "      <td>1</td>\n",
       "      <td>1</td>\n",
       "      <td>2590</td>\n",
       "      <td>56</td>\n",
       "      <td>2</td>\n",
       "      <td>212</td>\n",
       "      <td>-6</td>\n",
       "      <td>390</td>\n",
       "      <td>220</td>\n",
       "      <td>235</td>\n",
       "      <td>151</td>\n",
       "      <td>6225</td>\n",
       "      <td>5</td>\n",
       "      <td>Soil_Type_29</td>\n",
       "      <td>Wilderness_Area_1</td>\n",
       "    </tr>\n",
       "    <tr>\n",
       "      <td>2</td>\n",
       "      <td>2</td>\n",
       "      <td>2804</td>\n",
       "      <td>139</td>\n",
       "      <td>9</td>\n",
       "      <td>268</td>\n",
       "      <td>65</td>\n",
       "      <td>3180</td>\n",
       "      <td>234</td>\n",
       "      <td>238</td>\n",
       "      <td>135</td>\n",
       "      <td>6121</td>\n",
       "      <td>2</td>\n",
       "      <td>Soil_Type_12</td>\n",
       "      <td>Wilderness_Area_1</td>\n",
       "    </tr>\n",
       "    <tr>\n",
       "      <td>3</td>\n",
       "      <td>3</td>\n",
       "      <td>2785</td>\n",
       "      <td>155</td>\n",
       "      <td>18</td>\n",
       "      <td>242</td>\n",
       "      <td>118</td>\n",
       "      <td>3090</td>\n",
       "      <td>238</td>\n",
       "      <td>238</td>\n",
       "      <td>122</td>\n",
       "      <td>6211</td>\n",
       "      <td>2</td>\n",
       "      <td>Soil_Type_30</td>\n",
       "      <td>Wilderness_Area_1</td>\n",
       "    </tr>\n",
       "    <tr>\n",
       "      <td>4</td>\n",
       "      <td>4</td>\n",
       "      <td>2595</td>\n",
       "      <td>45</td>\n",
       "      <td>2</td>\n",
       "      <td>153</td>\n",
       "      <td>-1</td>\n",
       "      <td>391</td>\n",
       "      <td>220</td>\n",
       "      <td>234</td>\n",
       "      <td>150</td>\n",
       "      <td>6172</td>\n",
       "      <td>5</td>\n",
       "      <td>Soil_Type_29</td>\n",
       "      <td>Wilderness_Area_1</td>\n",
       "    </tr>\n",
       "  </tbody>\n",
       "</table>\n",
       "</div>"
      ],
      "text/plain": [
       "   Unnamed: 0  Elevation  Aspect  Slope  Horizontal_Distance_To_Hydrology  \\\n",
       "0           0       2596      51      3                               258   \n",
       "1           1       2590      56      2                               212   \n",
       "2           2       2804     139      9                               268   \n",
       "3           3       2785     155     18                               242   \n",
       "4           4       2595      45      2                               153   \n",
       "\n",
       "   Vertical_Distance_To_Hydrology  Horizontal_Distance_To_Roadways  \\\n",
       "0                               0                              510   \n",
       "1                              -6                              390   \n",
       "2                              65                             3180   \n",
       "3                             118                             3090   \n",
       "4                              -1                              391   \n",
       "\n",
       "   Hillshade_9am  Hillshade_Noon  Hillshade_3pm  \\\n",
       "0            221             232            148   \n",
       "1            220             235            151   \n",
       "2            234             238            135   \n",
       "3            238             238            122   \n",
       "4            220             234            150   \n",
       "\n",
       "   Horizontal_Distance_To_Fire_Points  Forest_Cover_Type_designation  \\\n",
       "0                                6279                              5   \n",
       "1                                6225                              5   \n",
       "2                                6121                              2   \n",
       "3                                6211                              2   \n",
       "4                                6172                              5   \n",
       "\n",
       "     Soil_types   Winderness_types  \n",
       "0  Soil_Type_29  Wilderness_Area_1  \n",
       "1  Soil_Type_29  Wilderness_Area_1  \n",
       "2  Soil_Type_12  Wilderness_Area_1  \n",
       "3  Soil_Type_30  Wilderness_Area_1  \n",
       "4  Soil_Type_29  Wilderness_Area_1  "
      ]
     },
     "execution_count": 3,
     "metadata": {},
     "output_type": "execute_result"
    }
   ],
   "source": [
    "df.head()"
   ]
  },
  {
   "cell_type": "code",
   "execution_count": 4,
   "metadata": {
    "colab": {},
    "colab_type": "code",
    "id": "vmPxWI46M0ON"
   },
   "outputs": [],
   "source": [
    "df = df.drop(columns='Unnamed: 0')\n",
    "ef = df[(df['Forest_Cover_Type_designation'] == 4) | (df['Forest_Cover_Type_designation'] == 5) | (df['Forest_Cover_Type_designation'] == 6)]\n"
   ]
  },
  {
   "cell_type": "code",
   "execution_count": 5,
   "metadata": {},
   "outputs": [
    {
     "data": {
      "text/html": [
       "<div>\n",
       "<style scoped>\n",
       "    .dataframe tbody tr th:only-of-type {\n",
       "        vertical-align: middle;\n",
       "    }\n",
       "\n",
       "    .dataframe tbody tr th {\n",
       "        vertical-align: top;\n",
       "    }\n",
       "\n",
       "    .dataframe thead th {\n",
       "        text-align: right;\n",
       "    }\n",
       "</style>\n",
       "<table border=\"1\" class=\"dataframe\">\n",
       "  <thead>\n",
       "    <tr style=\"text-align: right;\">\n",
       "      <th></th>\n",
       "      <th>Elevation</th>\n",
       "      <th>Aspect</th>\n",
       "      <th>Slope</th>\n",
       "      <th>Horizontal_Distance_To_Hydrology</th>\n",
       "      <th>Vertical_Distance_To_Hydrology</th>\n",
       "      <th>Horizontal_Distance_To_Roadways</th>\n",
       "      <th>Hillshade_9am</th>\n",
       "      <th>Hillshade_Noon</th>\n",
       "      <th>Hillshade_3pm</th>\n",
       "      <th>Horizontal_Distance_To_Fire_Points</th>\n",
       "      <th>Forest_Cover_Type_designation</th>\n",
       "      <th>Soil_types</th>\n",
       "      <th>Winderness_types</th>\n",
       "    </tr>\n",
       "  </thead>\n",
       "  <tbody>\n",
       "    <tr>\n",
       "      <td>0</td>\n",
       "      <td>2596</td>\n",
       "      <td>51</td>\n",
       "      <td>3</td>\n",
       "      <td>258</td>\n",
       "      <td>0</td>\n",
       "      <td>510</td>\n",
       "      <td>221</td>\n",
       "      <td>232</td>\n",
       "      <td>148</td>\n",
       "      <td>6279</td>\n",
       "      <td>5</td>\n",
       "      <td>Soil_Type_29</td>\n",
       "      <td>Wilderness_Area_1</td>\n",
       "    </tr>\n",
       "    <tr>\n",
       "      <td>1</td>\n",
       "      <td>2590</td>\n",
       "      <td>56</td>\n",
       "      <td>2</td>\n",
       "      <td>212</td>\n",
       "      <td>-6</td>\n",
       "      <td>390</td>\n",
       "      <td>220</td>\n",
       "      <td>235</td>\n",
       "      <td>151</td>\n",
       "      <td>6225</td>\n",
       "      <td>5</td>\n",
       "      <td>Soil_Type_29</td>\n",
       "      <td>Wilderness_Area_1</td>\n",
       "    </tr>\n",
       "    <tr>\n",
       "      <td>2</td>\n",
       "      <td>2804</td>\n",
       "      <td>139</td>\n",
       "      <td>9</td>\n",
       "      <td>268</td>\n",
       "      <td>65</td>\n",
       "      <td>3180</td>\n",
       "      <td>234</td>\n",
       "      <td>238</td>\n",
       "      <td>135</td>\n",
       "      <td>6121</td>\n",
       "      <td>2</td>\n",
       "      <td>Soil_Type_12</td>\n",
       "      <td>Wilderness_Area_1</td>\n",
       "    </tr>\n",
       "    <tr>\n",
       "      <td>3</td>\n",
       "      <td>2785</td>\n",
       "      <td>155</td>\n",
       "      <td>18</td>\n",
       "      <td>242</td>\n",
       "      <td>118</td>\n",
       "      <td>3090</td>\n",
       "      <td>238</td>\n",
       "      <td>238</td>\n",
       "      <td>122</td>\n",
       "      <td>6211</td>\n",
       "      <td>2</td>\n",
       "      <td>Soil_Type_30</td>\n",
       "      <td>Wilderness_Area_1</td>\n",
       "    </tr>\n",
       "    <tr>\n",
       "      <td>4</td>\n",
       "      <td>2595</td>\n",
       "      <td>45</td>\n",
       "      <td>2</td>\n",
       "      <td>153</td>\n",
       "      <td>-1</td>\n",
       "      <td>391</td>\n",
       "      <td>220</td>\n",
       "      <td>234</td>\n",
       "      <td>150</td>\n",
       "      <td>6172</td>\n",
       "      <td>5</td>\n",
       "      <td>Soil_Type_29</td>\n",
       "      <td>Wilderness_Area_1</td>\n",
       "    </tr>\n",
       "  </tbody>\n",
       "</table>\n",
       "</div>"
      ],
      "text/plain": [
       "   Elevation  Aspect  Slope  Horizontal_Distance_To_Hydrology  \\\n",
       "0       2596      51      3                               258   \n",
       "1       2590      56      2                               212   \n",
       "2       2804     139      9                               268   \n",
       "3       2785     155     18                               242   \n",
       "4       2595      45      2                               153   \n",
       "\n",
       "   Vertical_Distance_To_Hydrology  Horizontal_Distance_To_Roadways  \\\n",
       "0                               0                              510   \n",
       "1                              -6                              390   \n",
       "2                              65                             3180   \n",
       "3                             118                             3090   \n",
       "4                              -1                              391   \n",
       "\n",
       "   Hillshade_9am  Hillshade_Noon  Hillshade_3pm  \\\n",
       "0            221             232            148   \n",
       "1            220             235            151   \n",
       "2            234             238            135   \n",
       "3            238             238            122   \n",
       "4            220             234            150   \n",
       "\n",
       "   Horizontal_Distance_To_Fire_Points  Forest_Cover_Type_designation  \\\n",
       "0                                6279                              5   \n",
       "1                                6225                              5   \n",
       "2                                6121                              2   \n",
       "3                                6211                              2   \n",
       "4                                6172                              5   \n",
       "\n",
       "     Soil_types   Winderness_types  \n",
       "0  Soil_Type_29  Wilderness_Area_1  \n",
       "1  Soil_Type_29  Wilderness_Area_1  \n",
       "2  Soil_Type_12  Wilderness_Area_1  \n",
       "3  Soil_Type_30  Wilderness_Area_1  \n",
       "4  Soil_Type_29  Wilderness_Area_1  "
      ]
     },
     "execution_count": 5,
     "metadata": {},
     "output_type": "execute_result"
    }
   ],
   "source": [
    "df.head()"
   ]
  },
  {
   "cell_type": "code",
   "execution_count": null,
   "metadata": {},
   "outputs": [],
   "source": [
    "# df = df[(df['Forest_Cover_Type_designation'] == 1) | (df['Forest_Cover_Type_designation'] == 2) | (df['Forest_Cover_Type_designation'] == 3) | (df['Forest_Cover_Type_designation'] == 7)]"
   ]
  },
  {
   "cell_type": "markdown",
   "metadata": {},
   "source": [
    "# doesn't give any meaning currently."
   ]
  },
  {
   "cell_type": "markdown",
   "metadata": {},
   "source": [
    "Without Transformation, it will behave like Binary Classification\n",
    "\n",
    "That's why we run Sensitivity Analysis"
   ]
  },
  {
   "cell_type": "markdown",
   "metadata": {},
   "source": [
    "Pilot Study - Pivotal Study - Then derive the best method\n",
    "\n",
    "Summary Table of Negative and Positive findings."
   ]
  },
  {
   "cell_type": "markdown",
   "metadata": {},
   "source": [
    "Hinge Law - Measure of error"
   ]
  },
  {
   "cell_type": "markdown",
   "metadata": {},
   "source": [
    "Sensitivty Analysis\n",
    "\n",
    "Multiclass SVM"
   ]
  },
  {
   "cell_type": "markdown",
   "metadata": {},
   "source": [
    "# Model Building"
   ]
  },
  {
   "cell_type": "markdown",
   "metadata": {
    "colab": {},
    "colab_type": "code",
    "id": "8EO9wzHsLniC",
    "outputId": "b4c39179-c2bc-4624-eb31-8f7ea3cddaad"
   },
   "source": [
    "### Starting with model bulding now. We have written a function tailor made to our requirements over here"
   ]
  },
  {
   "cell_type": "code",
   "execution_count": 5,
   "metadata": {},
   "outputs": [],
   "source": [
    "def modelis(X, method, fold):\n",
    "    method = str(method)\n",
    "    if method == 'minmax':\n",
    "        mn = MinMaxScaler()\n",
    "        X_std = mn.fit_transform(X)\n",
    "        \n",
    "    elif method == 'power':\n",
    "        pt = PowerTransformer()\n",
    "        X_std = pt.fit_transform(X)\n",
    "\n",
    "    elif method == 'robust':\n",
    "        rc = RobustScaler()\n",
    "        X_std = rc.fit_transform(X)        \n",
    "        \n",
    "    else:\n",
    "        sc = StandardScaler()\n",
    "        X_std = sc.fit_transform(X)\n",
    "        \n",
    "    #gb = GradientBoostingClassifier()\n",
    "    #nb = GaussianNB()\n",
    "    lr = LogisticRegression(random_state= 0, n_jobs= -1)\n",
    "    dt = DecisionTreeClassifier(criterion = 'entropy', random_state=0) # Specifying random state is to 0\n",
    "    rg_dt = DecisionTreeClassifier(criterion='entropy', random_state=0, max_depth= 7)    \n",
    "    #knn = KNeighborsClassifier(weights='distance')\n",
    "    \n",
    "    rf = RandomForestClassifier(n_estimators= 10, criterion= 'entropy', random_state=0)\n",
    "    dt_bag = BaggingClassifier(base_estimator = dt, n_jobs=-1, random_state=0)\n",
    "    dt_rg_bag = BaggingClassifier(base_estimator = rg_dt, n_jobs=-1, random_state=0)    \n",
    "    dt_boost = AdaBoostClassifier(base_estimator= dt, n_estimators= 10, random_state=0)\n",
    "    #rf_boost = AdaBoostClassifier(base_estimator= rf, n_estimators= 100, random_state=0)\n",
    "\n",
    "    models = []\n",
    "    #models.append(('Logistic', lr))\n",
    "    #models.append(('Gradient_Boosting', gb))\n",
    "    #models.append(('Naive_Bayes', nb))\n",
    "    models.append(('Decision_Tree', dt))\n",
    "    #models.append(('KNN', knn))\n",
    "    models.append(('Bagged_Decision_Tree',dt_bag))\n",
    "    models.append(('Boosted_Decision_Tree', dt_boost))    \n",
    "    models.append(('Random_Forest', rf))\n",
    "    models.append(('Bagged_RG_DT', dt_rg_bag))\n",
    "\n",
    "    result= []\n",
    "    names = []\n",
    "    for name,model in models:\n",
    "        if fold == 'kf':\n",
    "            skf = KFold(shuffle=True, n_splits=5, random_state=0)\n",
    "        elif fold == 'skf':\n",
    "            skf = StratifiedKFold(shuffle=True, n_splits=5, random_state=0)\n",
    "        elif fold =='gkf':\n",
    "            skf = GroupKFold(n_splits = 5)\n",
    "        else:\n",
    "            skf = KFold(shuffle=True, n_splits=5, random_state=0)\n",
    "        cv_results = cross_val_score(model, X_std, y, cv=skf, scoring='recall_weighted')\n",
    "        result.append(cv_results)\n",
    "        names.append(name)\n",
    "        print('%s: %f, (%f)' %(name, 1-np.mean(cv_results), np.std(cv_results, ddof=1)))\n",
    "    fig = plt.figure()\n",
    "    plt.grid()\n",
    "    fig.suptitle('Algo Comparison')\n",
    "    ax = fig.add_subplot(111)\n",
    "    plt.xticks(rotation=90)\n",
    "    plt.boxplot(result)\n",
    "    ax.set_xticklabels(names)\n",
    "    plt.show()"
   ]
  },
  {
   "cell_type": "markdown",
   "metadata": {},
   "source": [
    "##### Note: We are not using KNN because it is taking too much time to run. Hence, practically not feasible. We haven't used Naive Bayes because most of the features are having some sort of Dependency among each other. Hence, Naive Bayes will become an ineffective approach in this problem."
   ]
  },
  {
   "cell_type": "markdown",
   "metadata": {},
   "source": [
    "# Base Model"
   ]
  },
  {
   "cell_type": "code",
   "execution_count": 7,
   "metadata": {},
   "outputs": [],
   "source": [
    "dummy_df = pd.get_dummies(df, drop_first=True)\n",
    "X = dummy_df.drop(columns='Forest_Cover_Type_designation')\n",
    "y = dummy_df['Forest_Cover_Type_designation']\n",
    "X_train, X_test, y_train, y_test = train_test_split(X, y, test_size= 0.2, random_state= 123)\n",
    "sc = StandardScaler()\n",
    "X_train_std = sc.fit_transform(X_train)\n",
    "X_test_std = sc.transform(X_test)"
   ]
  },
  {
   "cell_type": "markdown",
   "metadata": {},
   "source": [
    "## Logistic Regression"
   ]
  },
  {
   "cell_type": "code",
   "execution_count": 22,
   "metadata": {},
   "outputs": [],
   "source": [
    "lr = LogisticRegression(random_state= 0, n_jobs= -1)"
   ]
  },
  {
   "cell_type": "code",
   "execution_count": 19,
   "metadata": {},
   "outputs": [],
   "source": [
    "model_0 = lr.fit(X_train_std, y_train)\n",
    "y_pred_0 = model_0.predict(X_test_std)"
   ]
  },
  {
   "cell_type": "code",
   "execution_count": 50,
   "metadata": {},
   "outputs": [
    {
     "name": "stdout",
     "output_type": "stream",
     "text": [
      "              precision    recall  f1-score   support\n",
      "\n",
      "           1       0.71      0.70      0.70     42333\n",
      "           2       0.75      0.80      0.77     56732\n",
      "           3       0.67      0.81      0.73      7058\n",
      "           4       0.62      0.38      0.47       595\n",
      "           5       0.16      0.00      0.01      1875\n",
      "           6       0.50      0.26      0.34      3503\n",
      "           7       0.73      0.57      0.64      4107\n",
      "\n",
      "    accuracy                           0.72    116203\n",
      "   macro avg       0.59      0.50      0.52    116203\n",
      "weighted avg       0.71      0.72      0.71    116203\n",
      "\n"
     ]
    }
   ],
   "source": [
    "print(classification_report(y_test, y_pred_0))"
   ]
  },
  {
   "cell_type": "code",
   "execution_count": 51,
   "metadata": {},
   "outputs": [
    {
     "name": "stdout",
     "output_type": "stream",
     "text": [
      "Training Score 0.7242006931879547\n",
      "Testing Score 0.7243788886689673\n"
     ]
    }
   ],
   "source": [
    "print('Training Score',model_0.score(X_train_std, y_train))\n",
    "print('Testing Score',model_0.score(X_test_std, y_test))"
   ]
  },
  {
   "cell_type": "markdown",
   "metadata": {},
   "source": [
    "## Decision Tree & Regularized Decision Tree"
   ]
  },
  {
   "cell_type": "code",
   "execution_count": 23,
   "metadata": {
    "colab": {},
    "colab_type": "code",
    "id": "5TODJhK4LniK"
   },
   "outputs": [],
   "source": [
    "dt = DecisionTreeClassifier(random_state = 0, criterion='entropy')\n",
    "model_1 = dt.fit(X_train_std, y_train)\n",
    "y_pred_1 = model_1.predict(X_test_std)"
   ]
  },
  {
   "cell_type": "code",
   "execution_count": 24,
   "metadata": {
    "colab": {},
    "colab_type": "code",
    "id": "veXJM7CzLniL",
    "outputId": "efffd176-cb4d-4b45-ae59-25b6335b3097",
    "scrolled": false
   },
   "outputs": [
    {
     "name": "stdout",
     "output_type": "stream",
     "text": [
      "              precision    recall  f1-score   support\n",
      "\n",
      "           1       0.94      0.94      0.94     42333\n",
      "           2       0.95      0.95      0.95     56732\n",
      "           3       0.93      0.94      0.93      7058\n",
      "           4       0.87      0.84      0.85       595\n",
      "           5       0.85      0.84      0.85      1875\n",
      "           6       0.88      0.89      0.89      3503\n",
      "           7       0.95      0.95      0.95      4107\n",
      "\n",
      "    accuracy                           0.94    116203\n",
      "   macro avg       0.91      0.91      0.91    116203\n",
      "weighted avg       0.94      0.94      0.94    116203\n",
      "\n"
     ]
    }
   ],
   "source": [
    "print(classification_report(y_test, y_pred_1))"
   ]
  },
  {
   "cell_type": "code",
   "execution_count": 25,
   "metadata": {
    "colab": {},
    "colab_type": "code",
    "id": "rIOwXa9XLniM",
    "outputId": "4ebaf3ef-32bf-4552-ef6e-df09688021d2"
   },
   "outputs": [
    {
     "name": "stdout",
     "output_type": "stream",
     "text": [
      "Training Score 1.0\n",
      "Testing Score 0.9427983786993451\n"
     ]
    }
   ],
   "source": [
    "print('Training Score',model_1.score(X_train_std, y_train))\n",
    "print('Testing Score',model_1.score(X_test_std, y_test))"
   ]
  },
  {
   "cell_type": "code",
   "execution_count": 108,
   "metadata": {},
   "outputs": [],
   "source": [
    "from sklearn.metrics import recall_score"
   ]
  },
  {
   "cell_type": "code",
   "execution_count": 116,
   "metadata": {},
   "outputs": [
    {
     "data": {
      "image/png": "[encoded data removed]",
      "text/plain": [
       "<Figure size 432x288 with 1 Axes>"
      ]
     },
     "metadata": {
      "needs_background": "light"
     },
     "output_type": "display_data"
    }
   ],
   "source": [
    "tesi = []\n",
    "tri = []\n",
    "for i in range(2,20):\n",
    "    dt1 = DecisionTreeClassifier(random_state = 0, max_depth = i, criterion='entropy')\n",
    "    model = dt1.fit(X_train_std, y_train)\n",
    "    y_pred_2 = model.predict(X_test_std)\n",
    "    tri.append(model.score(X_train_std, y_train))\n",
    "    tesi.append(model.score(X_test_std, y_test))\n",
    "a = [i for i in range(2,20)]\n",
    "plt.plot(a, tri)\n",
    "plt.plot(a, tesi)\n",
    "plt.show()"
   ]
  },
  {
   "cell_type": "markdown",
   "metadata": {},
   "source": [
    "For `max_depth = 6`, we get the least difference between training and testing accuracies as `0.001050`.\n"
   ]
  },
  {
   "cell_type": "code",
   "execution_count": 135,
   "metadata": {
    "colab": {},
    "colab_type": "code",
    "id": "syS60k2gLniL"
   },
   "outputs": [],
   "source": [
    "dt1 = DecisionTreeClassifier(random_state = 0, max_depth = 6, criterion='entropy')\n",
    "model_2 = dt1.fit(X_train_std, y_train)\n",
    "y_pred_2 = model_2.predict(X_test_std)"
   ]
  },
  {
   "cell_type": "code",
   "execution_count": 136,
   "metadata": {},
   "outputs": [
    {
     "name": "stdout",
     "output_type": "stream",
     "text": [
      "              precision    recall  f1-score   support\n",
      "\n",
      "           1       0.68      0.71      0.69     42333\n",
      "           2       0.74      0.77      0.76     56732\n",
      "           3       0.70      0.77      0.73      7058\n",
      "           4       0.57      0.62      0.59       595\n",
      "           5       0.48      0.20      0.29      1875\n",
      "           6       0.56      0.21      0.30      3503\n",
      "           7       0.76      0.38      0.51      4107\n",
      "\n",
      "    accuracy                           0.71    116203\n",
      "   macro avg       0.64      0.52      0.55    116203\n",
      "weighted avg       0.71      0.71      0.70    116203\n",
      "\n"
     ]
    }
   ],
   "source": [
    "print(classification_report(y_test, y_pred_2))"
   ]
  },
  {
   "cell_type": "code",
   "execution_count": 137,
   "metadata": {},
   "outputs": [
    {
     "name": "stdout",
     "output_type": "stream",
     "text": [
      "Training Score 0.7118988659858135\n",
      "Testing Score 0.7097837405230502\n"
     ]
    }
   ],
   "source": [
    "print('Training Score',model_2.score(X_train_std, y_train))\n",
    "print('Testing Score',model_2.score(X_test_std, y_test))"
   ]
  },
  {
   "cell_type": "code",
   "execution_count": 156,
   "metadata": {},
   "outputs": [
    {
     "data": {
      "text/plain": [
       "Index(['Elevation', 'Aspect', 'Slope', 'Horizontal_Distance_To_Hydrology',\n",
       "       'Vertical_Distance_To_Hydrology', 'Horizontal_Distance_To_Roadways',\n",
       "       'Hillshade_9am', 'Hillshade_Noon', 'Hillshade_3pm',\n",
       "       'Horizontal_Distance_To_Fire_Points', 'Forest_Cover_Type_designation',\n",
       "       'Soil_types', 'Winderness_types'],\n",
       "      dtype='object')"
      ]
     },
     "execution_count": 156,
     "metadata": {},
     "output_type": "execute_result"
    }
   ],
   "source": [
    "df.columns"
   ]
  },
  {
   "cell_type": "markdown",
   "metadata": {},
   "source": [
    "## Random Forest"
   ]
  },
  {
   "cell_type": "code",
   "execution_count": 145,
   "metadata": {},
   "outputs": [],
   "source": [
    "rf = RandomForestClassifier(random_state = 0, n_jobs=-1,criterion='entropy')\n",
    "model_3 = rf.fit(X_train_std, y_train)\n",
    "y_pred_3 = model_3.predict(X_test_std)\n"
   ]
  },
  {
   "cell_type": "code",
   "execution_count": 30,
   "metadata": {},
   "outputs": [
    {
     "name": "stdout",
     "output_type": "stream",
     "text": [
      "Training Score: 0.999995697157327\n",
      "Testing Score: 0.9574623718836863\n"
     ]
    }
   ],
   "source": [
    "print('Training Score:',model_3.score(X_train_std, y_train))\n",
    "print('Testing Score:',model_3.score(X_test_std, y_test))"
   ]
  },
  {
   "cell_type": "code",
   "execution_count": 146,
   "metadata": {},
   "outputs": [
    {
     "data": {
      "image/png": "[encoded data removed]",
      "text/plain": [
       "<Figure size 864x432 with 1 Axes>"
      ]
     },
     "metadata": {
      "needs_background": "light"
     },
     "output_type": "display_data"
    }
   ],
   "source": [
    "plt.figure(figsize=(12,6))\n",
    "pd.DataFrame(model_3.feature_importances_, index = X_train.columns)[0].sort_values(ascending=False)[:15].plot(kind='barh')\n",
    "plt.show()"
   ]
  },
  {
   "cell_type": "code",
   "execution_count": 132,
   "metadata": {},
   "outputs": [
    {
     "data": {
      "image/png": "[encoded data removed]",
      "text/plain": [
       "<Figure size 432x288 with 1 Axes>"
      ]
     },
     "metadata": {
      "needs_background": "light"
     },
     "output_type": "display_data"
    }
   ],
   "source": [
    "tesi = []\n",
    "tri = []\n",
    "for i in range(2,20):\n",
    "    rf = RandomForestClassifier(random_state = 0, n_jobs=-1,criterion='entropy', max_depth = i)\n",
    "    model = rf.fit(X_train_std, y_train)\n",
    "    y_pred_2 = model.predict(X_test_std)\n",
    "    tri.append(model.score(X_train_std, y_train))\n",
    "    tesi.append(model.score(X_test_std, y_test))\n",
    "a = [i for i in range(2,20)]\n",
    "plt.plot(a, tri)\n",
    "plt.plot(a, tesi)\n",
    "plt.show()"
   ]
  },
  {
   "cell_type": "code",
   "execution_count": 133,
   "metadata": {},
   "outputs": [
    {
     "data": {
      "text/plain": [
       "0     0.000055\n",
       "1     0.001581\n",
       "2     0.002145\n",
       "3     0.001848\n",
       "4     0.002147\n",
       "5     0.002662\n",
       "6     0.003088\n",
       "7     0.003886\n",
       "8     0.005379\n",
       "9     0.005986\n",
       "10    0.007225\n",
       "11    0.009426\n",
       "12    0.012438\n",
       "13    0.014799\n",
       "14    0.018426\n",
       "15    0.021139\n",
       "16    0.025864\n",
       "17    0.029104\n",
       "dtype: float64"
      ]
     },
     "execution_count": 133,
     "metadata": {},
     "output_type": "execute_result"
    }
   ],
   "source": [
    "np.min(abs(pd.Series(tri)-pd.Series(tesi)))"
   ]
  },
  {
   "cell_type": "code",
   "execution_count": 134,
   "metadata": {},
   "outputs": [
    {
     "data": {
      "text/plain": [
       "5.49518624963774e-05"
      ]
     },
     "execution_count": 134,
     "metadata": {},
     "output_type": "execute_result"
    }
   ],
   "source": [
    "np.min(abs(pd.Series(tri)-pd.Series(tesi)))"
   ]
  },
  {
   "cell_type": "code",
   "execution_count": 139,
   "metadata": {},
   "outputs": [],
   "source": [
    "rf_rg = RandomForestClassifier(random_state = 0, n_jobs=-1,criterion='entropy', max_depth = 6)\n",
    "model_4 = rf_rg.fit(X_train_std, y_train)\n",
    "y_pred_4 = model_4.predict(X_test_std)\n"
   ]
  },
  {
   "cell_type": "code",
   "execution_count": 140,
   "metadata": {},
   "outputs": [
    {
     "name": "stdout",
     "output_type": "stream",
     "text": [
      "              precision    recall  f1-score   support\n",
      "\n",
      "           1       0.67      0.69      0.68     42333\n",
      "           2       0.72      0.81      0.76     56732\n",
      "           3       0.63      0.76      0.69      7058\n",
      "           4       1.00      0.00      0.01       595\n",
      "           5       0.00      0.00      0.00      1875\n",
      "           6       0.00      0.00      0.00      3503\n",
      "           7       1.00      0.00      0.01      4107\n",
      "\n",
      "    accuracy                           0.69    116203\n",
      "   macro avg       0.57      0.32      0.31    116203\n",
      "weighted avg       0.67      0.69      0.66    116203\n",
      "\n"
     ]
    }
   ],
   "source": [
    "print(classification_report(y_test, y_pred_4))"
   ]
  },
  {
   "cell_type": "code",
   "execution_count": 141,
   "metadata": {},
   "outputs": [
    {
     "name": "stdout",
     "output_type": "stream",
     "text": [
      "Training Score: 0.6971465698813921\n",
      "Testing Score: 0.6949992685214668\n"
     ]
    }
   ],
   "source": [
    "print('Training Score:',model_4.score(X_train_std, y_train))\n",
    "print('Testing Score:',model_4.score(X_test_std, y_test))"
   ]
  },
  {
   "cell_type": "code",
   "execution_count": 147,
   "metadata": {},
   "outputs": [
    {
     "data": {
      "image/png": "[encoded data removed]",
      "text/plain": [
       "<Figure size 864x432 with 1 Axes>"
      ]
     },
     "metadata": {
      "needs_background": "light"
     },
     "output_type": "display_data"
    }
   ],
   "source": [
    "plt.figure(figsize=(12,6))\n",
    "pd.DataFrame(model_4.feature_importances_, index = X_train.columns)[0].sort_values(ascending=False)[:15].plot(kind='barh')\n",
    "plt.show()"
   ]
  },
  {
   "cell_type": "code",
   "execution_count": 46,
   "metadata": {
    "scrolled": true
   },
   "outputs": [
    {
     "name": "stdout",
     "output_type": "stream",
     "text": [
      "Decision_Tree: 0.055792, (0.000829)\n",
      "Bagged_Decision_Tree: 0.034813, (0.000764)\n",
      "Boosted_Decision_Tree: 0.055796, (0.000664)\n",
      "Random_Forest: 0.055343, (0.000839)\n",
      "Bagged_RG_DT: 0.270056, (0.001807)\n"
     ]
    },
    {
     "data": {
      "image/png": "[encoded data removed]",
      "text/plain": [
       "<Figure size 432x288 with 1 Axes>"
      ]
     },
     "metadata": {
      "needs_background": "light"
     },
     "output_type": "display_data"
    }
   ],
   "source": [
    "modelis(X, method = 'robust', fold= 'skf')"
   ]
  },
  {
   "cell_type": "code",
   "execution_count": 48,
   "metadata": {},
   "outputs": [
    {
     "name": "stdout",
     "output_type": "stream",
     "text": [
      "Decision_Tree: 0.056164, (0.000427)\n",
      "Bagged_Decision_Tree: 0.035311, (0.000356)\n",
      "Boosted_Decision_Tree: 0.056297, (0.000444)\n",
      "Random_Forest: 0.054925, (0.000301)\n",
      "Bagged_RG_DT: 0.270158, (0.002018)\n"
     ]
    },
    {
     "data": {
      "image/png": "[encoded data removed]",
      "text/plain": [
       "<Figure size 432x288 with 1 Axes>"
      ]
     },
     "metadata": {
      "needs_background": "light"
     },
     "output_type": "display_data"
    }
   ],
   "source": [
    "modelis(X, method = 'sc', fold= 'kf')"
   ]
  },
  {
   "cell_type": "code",
   "execution_count": 49,
   "metadata": {},
   "outputs": [
    {
     "name": "stdout",
     "output_type": "stream",
     "text": [
      "Decision_Tree: 0.055842, (0.000900)\n",
      "Bagged_Decision_Tree: 0.034848, (0.000809)\n",
      "Boosted_Decision_Tree: 0.055842, (0.000733)\n",
      "Random_Forest: 0.055424, (0.000891)\n",
      "Bagged_RG_DT: 0.270055, (0.001808)\n"
     ]
    },
    {
     "data": {
      "image/png": "[encoded data removed]",
      "text/plain": [
       "<Figure size 432x288 with 1 Axes>"
      ]
     },
     "metadata": {
      "needs_background": "light"
     },
     "output_type": "display_data"
    }
   ],
   "source": [
    "modelis(X, method = 'sc', fold= 'skf')"
   ]
  },
  {
   "cell_type": "code",
   "execution_count": 50,
   "metadata": {
    "scrolled": true
   },
   "outputs": [
    {
     "name": "stdout",
     "output_type": "stream",
     "text": [
      "Decision_Tree: 0.056133, (0.000355)\n",
      "Bagged_Decision_Tree: 0.035337, (0.000444)\n",
      "Boosted_Decision_Tree: 0.056259, (0.000355)\n",
      "Random_Forest: 0.054930, (0.000278)\n",
      "Bagged_RG_DT: 0.270154, (0.002018)\n"
     ]
    },
    {
     "data": {
      "image/png": "[encoded data removed]",
      "text/plain": [
       "<Figure size 432x288 with 1 Axes>"
      ]
     },
     "metadata": {
      "needs_background": "light"
     },
     "output_type": "display_data"
    }
   ],
   "source": [
    "modelis(X, method = 'minmax', fold= 'kf')"
   ]
  },
  {
   "cell_type": "markdown",
   "metadata": {},
   "source": [
    "## Base Model"
   ]
  },
  {
   "cell_type": "code",
   "execution_count": 51,
   "metadata": {},
   "outputs": [
    {
     "name": "stdout",
     "output_type": "stream",
     "text": [
      "Decision_Tree: 0.055853, (0.000831)\n",
      "Bagged_Decision_Tree: 0.034807, (0.000771)\n",
      "Boosted_Decision_Tree: 0.055933, (0.000684)\n",
      "Random_Forest: 0.055360, (0.000898)\n",
      "Bagged_RG_DT: 0.270055, (0.001804)\n"
     ]
    },
    {
     "data": {
      "image/png": "[encoded data removed]",
      "text/plain": [
       "<Figure size 432x288 with 1 Axes>"
      ]
     },
     "metadata": {
      "needs_background": "light"
     },
     "output_type": "display_data"
    }
   ],
   "source": [
    "modelis(X, method = 'minmax', fold= 'skf')"
   ]
  },
  {
   "cell_type": "code",
   "execution_count": 52,
   "metadata": {},
   "outputs": [
    {
     "name": "stdout",
     "output_type": "stream",
     "text": [
      "Decision_Tree: 0.056149, (0.000383)\n",
      "Bagged_Decision_Tree: 0.035306, (0.000406)\n",
      "Boosted_Decision_Tree: 0.056278, (0.000488)\n",
      "Random_Forest: 0.054835, (0.000383)\n",
      "Bagged_RG_DT: 0.270154, (0.002017)\n"
     ]
    },
    {
     "data": {
      "image/png": "[encoded data removed]",
      "text/plain": [
       "<Figure size 432x288 with 1 Axes>"
      ]
     },
     "metadata": {
      "needs_background": "light"
     },
     "output_type": "display_data"
    }
   ],
   "source": [
    "modelis(X, method = 'power', fold= 'kf')"
   ]
  },
  {
   "cell_type": "code",
   "execution_count": 53,
   "metadata": {},
   "outputs": [
    {
     "name": "stdout",
     "output_type": "stream",
     "text": [
      "Decision_Tree: 0.055844, (0.000933)\n",
      "Bagged_Decision_Tree: 0.034793, (0.000777)\n",
      "Boosted_Decision_Tree: 0.055865, (0.000736)\n",
      "Random_Forest: 0.055415, (0.000893)\n",
      "Bagged_RG_DT: 0.270058, (0.001807)\n"
     ]
    },
    {
     "data": {
      "image/png": "[encoded data removed]",
      "text/plain": [
       "<Figure size 432x288 with 1 Axes>"
      ]
     },
     "metadata": {
      "needs_background": "light"
     },
     "output_type": "display_data"
    }
   ],
   "source": [
    "modelis(X, method = 'power', fold= 'skf')"
   ]
  },
  {
   "cell_type": "markdown",
   "metadata": {},
   "source": [
    "#### Naive Bayes being the most underperforming model over here. Since, it is based on the Assumption that all features are independent which in our case is certainly not.\n",
    "\n",
    "#### We aren't using Logistic Regression over here. Since, less than  50-60% of all combinations in the correlation matrix are highly correlated i.e. greater than 0.5"
   ]
  },
  {
   "cell_type": "markdown",
   "metadata": {},
   "source": [
    "### MinMax Scaler + Stratified K - Fold will be used as the Base Model for our Analysis"
   ]
  },
  {
   "cell_type": "code",
   "execution_count": 12,
   "metadata": {},
   "outputs": [],
   "source": [
    "def modelis2(data, method, fold):\n",
    "    dummy_feat = pd.get_dummies(data, drop_first=True)\n",
    "    X = dummy_feat.drop(columns='Forest_Cover_Type_designation')\n",
    "    y = dummy_feat['Forest_Cover_Type_designation']\n",
    "    modelis(X, method, fold)"
   ]
  },
  {
   "cell_type": "code",
   "execution_count": 13,
   "metadata": {},
   "outputs": [],
   "source": [
    "def rf_imp(df_add_subt,i):\n",
    "    dummy_feat = pd.get_dummies(df_add_subt, drop_first=True)\n",
    "    X = dummy_feat.drop(columns=['Forest_Cover_Type_designation'])\n",
    "    y = dummy_feat['Forest_Cover_Type_designation']\n",
    "\n",
    "    sc= StandardScaler()\n",
    "\n",
    "    X_train, X_test, y_train, y_test = train_test_split(X, y, test_size = 0.2, random_state = 123)\n",
    "\n",
    "    X_train_std = pd.DataFrame(sc.fit_transform(X_train), columns = X_train.columns)\n",
    "    X_test_std = pd.DataFrame(sc.transform(X_test), columns = X_test.columns)\n",
    "\n",
    "    rf = RandomForestClassifier(random_state = 0)\n",
    "    model_1 = rf.fit(X_train_std, y_train)\n",
    "    pd.DataFrame(rf.feature_importances_, index = X_train.columns)[0].sort_values(ascending=False)[:i].plot(kind='barh')"
   ]
  },
  {
   "cell_type": "markdown",
   "metadata": {},
   "source": [
    "# Outlier Treatment"
   ]
  },
  {
   "cell_type": "markdown",
   "metadata": {},
   "source": [
    "## Analyzing Outlier Treatment Techniques through Modeling Results\n",
    "\n",
    "### Quantile Cut"
   ]
  },
  {
   "cell_type": "code",
   "execution_count": 56,
   "metadata": {
    "scrolled": false
   },
   "outputs": [
    {
     "name": "stdout",
     "output_type": "stream",
     "text": [
      "Decision_Tree: 0.060837, (0.000536)\n",
      "Bagged_Decision_Tree: 0.041486, (0.000719)\n",
      "Boosted_Decision_Tree: 0.060737, (0.000708)\n",
      "Random_Forest: 0.063453, (0.000808)\n",
      "Bagged_RG_DT: 0.278342, (0.002429)\n"
     ]
    },
    {
     "data": {
      "image/png": "[encoded data removed]",
      "text/plain": [
       "<Figure size 432x288 with 1 Axes>"
      ]
     },
     "metadata": {
      "needs_background": "light"
     },
     "output_type": "display_data"
    },
    {
     "data": {
      "text/plain": [
       "'\\nBase Model:\\nNaive_Bayes: 0.893098, (0.000001)\\nDecision_Tree: 0.051120, (0.000001)\\nBagged_Decision_Tree: 0.031982, (0.000001)\\nRandom_Forest: 0.044753, (0.000001)\\nBoosted_Decision_Tree: 0.050997, (0.000001)\\nBagged_RG_DT: 0.225795, (0.000008)'"
      ]
     },
     "execution_count": 56,
     "metadata": {},
     "output_type": "execute_result"
    }
   ],
   "source": [
    "trans_data = df.copy()\n",
    "trans_data.Elevation = pd.qcut(trans_data.Elevation,q=7)\n",
    "modelis2(trans_data, 'minmax', 'skf')\n",
    "'''\n",
    "Base Model:\n",
    "Decision_Tree: 0.055853, (0.000831)\n",
    "Bagged_Decision_Tree: 0.034807, (0.000771)\n",
    "Boosted_Decision_Tree: 0.055933, (0.000684)\n",
    "Random_Forest: 0.055360, (0.000898)\n",
    "Bagged_RG_DT: 0.270055, (0.001804)'''"
   ]
  },
  {
   "cell_type": "markdown",
   "metadata": {},
   "source": [
    "Quantile Cut is unable to perform well."
   ]
  },
  {
   "cell_type": "markdown",
   "metadata": {},
   "source": [
    "### Log Transform on Elevation"
   ]
  },
  {
   "cell_type": "code",
   "execution_count": 57,
   "metadata": {},
   "outputs": [
    {
     "name": "stdout",
     "output_type": "stream",
     "text": [
      "Decision_Tree: 0.055856, (0.000821)\n",
      "Bagged_Decision_Tree: 0.034794, (0.000770)\n",
      "Boosted_Decision_Tree: 0.055927, (0.000691)\n",
      "Random_Forest: 0.055357, (0.000885)\n",
      "Bagged_RG_DT: 0.270053, (0.001805)\n"
     ]
    },
    {
     "data": {
      "image/png": "[encoded data removed]",
      "text/plain": [
       "<Figure size 432x288 with 1 Axes>"
      ]
     },
     "metadata": {
      "needs_background": "light"
     },
     "output_type": "display_data"
    },
    {
     "data": {
      "text/plain": [
       "'\\nBase Model:\\nNaive_Bayes: 0.893098, (0.000001)\\nDecision_Tree: 0.051120, (0.000001)\\nBagged_Decision_Tree: 0.031982, (0.000001)\\nRandom_Forest: 0.044753, (0.000001)\\nBoosted_Decision_Tree: 0.050997, (0.000001)\\nBagged_RG_DT: 0.225795, (0.000008)'"
      ]
     },
     "execution_count": 57,
     "metadata": {},
     "output_type": "execute_result"
    }
   ],
   "source": [
    "bun_data=df.copy()\n",
    "\n",
    "bun_data['Elevation'] = np.log1p(bun_data['Elevation'])\n",
    "\n",
    "modelis2(bun_data, 'minmax', 'skf')\n",
    "'''\n",
    "Base Model:\n",
    "Decision_Tree: 0.055853, (0.000831)\n",
    "Bagged_Decision_Tree: 0.034807, (0.000771)\n",
    "Boosted_Decision_Tree: 0.055933, (0.000684)\n",
    "Random_Forest: 0.055360, (0.000898)\n",
    "Bagged_RG_DT: 0.270055, (0.001804)'''"
   ]
  },
  {
   "cell_type": "markdown",
   "metadata": {},
   "source": [
    "# Sensitivity Analysis"
   ]
  },
  {
   "cell_type": "markdown",
   "metadata": {},
   "source": [
    "Firstly, we have felt that the columns Soil_types either requires `Generalization` or it needs to be `dropped out` of our analysis.\n",
    "\n",
    "So, we have chosen to drop `Soil_types` as our first step and then we will be checking the impact of it towards modeling predictions"
   ]
  },
  {
   "cell_type": "code",
   "execution_count": 58,
   "metadata": {
    "colab": {},
    "colab_type": "code",
    "id": "xvOmho_GLniQ"
   },
   "outputs": [],
   "source": [
    "df_w_soil = df.drop(columns = 'Soil_types')"
   ]
  },
  {
   "cell_type": "code",
   "execution_count": 59,
   "metadata": {},
   "outputs": [],
   "source": [
    "dummy_w_soil = pd.get_dummies(df_w_soil, drop_first=True)"
   ]
  },
  {
   "cell_type": "code",
   "execution_count": 60,
   "metadata": {},
   "outputs": [
    {
     "data": {
      "text/plain": [
       "(581012, 14)"
      ]
     },
     "execution_count": 60,
     "metadata": {},
     "output_type": "execute_result"
    }
   ],
   "source": [
    "dummy_w_soil.shape"
   ]
  },
  {
   "cell_type": "code",
   "execution_count": 61,
   "metadata": {},
   "outputs": [
    {
     "data": {
      "text/plain": [
       "Index(['Elevation', 'Aspect', 'Slope', 'Horizontal_Distance_To_Hydrology',\n",
       "       'Vertical_Distance_To_Hydrology', 'Horizontal_Distance_To_Roadways',\n",
       "       'Hillshade_9am', 'Hillshade_Noon', 'Hillshade_3pm',\n",
       "       'Horizontal_Distance_To_Fire_Points', 'Forest_Cover_Type_designation',\n",
       "       'Winderness_types_Wilderness_Area_2',\n",
       "       'Winderness_types_Wilderness_Area_3',\n",
       "       'Winderness_types_Wilderness_Area_4'],\n",
       "      dtype='object')"
      ]
     },
     "execution_count": 61,
     "metadata": {},
     "output_type": "execute_result"
    }
   ],
   "source": [
    "dummy_w_soil.columns"
   ]
  },
  {
   "cell_type": "code",
   "execution_count": 62,
   "metadata": {},
   "outputs": [],
   "source": [
    "X = dummy_w_soil.drop(columns='Forest_Cover_Type_designation')\n",
    "y = dummy_w_soil['Forest_Cover_Type_designation']\n"
   ]
  },
  {
   "cell_type": "code",
   "execution_count": 63,
   "metadata": {},
   "outputs": [
    {
     "name": "stdout",
     "output_type": "stream",
     "text": [
      "Decision_Tree: 0.066128, (0.001076)\n",
      "Bagged_Decision_Tree: 0.040030, (0.000855)\n",
      "Boosted_Decision_Tree: 0.066296, (0.001069)\n",
      "Random_Forest: 0.056923, (0.000913)\n",
      "Bagged_RG_DT: 0.275507, (0.003302)\n"
     ]
    },
    {
     "data": {
      "image/png": "[encoded data removed]",
      "text/plain": [
       "<Figure size 432x288 with 1 Axes>"
      ]
     },
     "metadata": {
      "needs_background": "light"
     },
     "output_type": "display_data"
    },
    {
     "data": {
      "text/plain": [
       "'\\nBase Model:\\nNaive_Bayes: 0.893098, (0.000001)\\nDecision_Tree: 0.051120, (0.000001)\\nBagged_Decision_Tree: 0.031982, (0.000001)\\nRandom_Forest: 0.044753, (0.000001)\\nBoosted_Decision_Tree: 0.050997, (0.000001)\\nBagged_RG_DT: 0.225795, (0.000008)'"
      ]
     },
     "execution_count": 63,
     "metadata": {},
     "output_type": "execute_result"
    }
   ],
   "source": [
    "modelis(X, 'minmax', 'skf')\n",
    "'''\n",
    "Base Model:\n",
    "Decision_Tree: 0.055853, (0.000831)\n",
    "Bagged_Decision_Tree: 0.034807, (0.000771)\n",
    "Boosted_Decision_Tree: 0.055933, (0.000684)\n",
    "Random_Forest: 0.055360, (0.000898)\n",
    "Bagged_RG_DT: 0.270055, (0.001804)'''"
   ]
  },
  {
   "cell_type": "markdown",
   "metadata": {},
   "source": [
    "Hence, by dropping the variable means dropping some important intelligence as none of the models are performing better than the base modelling.\n",
    "\n",
    "The model still being Naive Bayes."
   ]
  },
  {
   "cell_type": "markdown",
   "metadata": {},
   "source": [
    "#### Therefore, dropping Soil Types was a bad decision. Hence, we will try to Generalize this column in further experiments."
   ]
  },
  {
   "cell_type": "markdown",
   "metadata": {},
   "source": [
    "# Feature Engineering"
   ]
  },
  {
   "cell_type": "markdown",
   "metadata": {},
   "source": [
    "For now, we will be using the basic concept of Pythogoras theorem upon Vertical & Horizontal Distance to Hydrology to create a new feature `'Shortest_Distance_to_Hydrology'`"
   ]
  },
  {
   "cell_type": "code",
   "execution_count": 64,
   "metadata": {},
   "outputs": [],
   "source": [
    "df_feat = df.copy()"
   ]
  },
  {
   "cell_type": "code",
   "execution_count": 65,
   "metadata": {},
   "outputs": [],
   "source": [
    "df_feat['Shortest_Distance_to_Hydrology'] = np.sqrt(df['Horizontal_Distance_To_Hydrology']**2 + df['Vertical_Distance_To_Hydrology']**2)\n"
   ]
  },
  {
   "cell_type": "code",
   "execution_count": 66,
   "metadata": {},
   "outputs": [],
   "source": [
    "df_feat.drop(columns=['Horizontal_Distance_To_Hydrology', 'Vertical_Distance_To_Hydrology'], inplace=True)"
   ]
  },
  {
   "cell_type": "code",
   "execution_count": 67,
   "metadata": {},
   "outputs": [
    {
     "name": "stdout",
     "output_type": "stream",
     "text": [
      "Decision_Tree: 0.056699, (0.001445)\n",
      "Bagged_Decision_Tree: 0.035985, (0.000872)\n",
      "Boosted_Decision_Tree: 0.056682, (0.001087)\n",
      "Random_Forest: 0.060078, (0.001592)\n",
      "Bagged_RG_DT: 0.269685, (0.001887)\n"
     ]
    },
    {
     "data": {
      "image/png": "[encoded data removed]",
      "text/plain": [
       "<Figure size 432x288 with 1 Axes>"
      ]
     },
     "metadata": {
      "needs_background": "light"
     },
     "output_type": "display_data"
    },
    {
     "data": {
      "text/plain": [
       "'\\nBase Model:\\nNaive_Bayes: 0.893098, (0.000001)\\nDecision_Tree: 0.051120, (0.000001)\\nBagged_Decision_Tree: 0.031982, (0.000001)\\nRandom_Forest: 0.044753, (0.000001)\\nBoosted_Decision_Tree: 0.050997, (0.000001)\\nBagged_RG_DT: 0.225795, (0.000008)'"
      ]
     },
     "execution_count": 67,
     "metadata": {},
     "output_type": "execute_result"
    }
   ],
   "source": [
    "modelis2(df_feat, 'minmax', 'skf')\n",
    "'''\n",
    "Base Model:\n",
    "Decision_Tree: 0.055853, (0.000831)\n",
    "Bagged_Decision_Tree: 0.034807, (0.000771)\n",
    "Boosted_Decision_Tree: 0.055933, (0.000684)\n",
    "Random_Forest: 0.055360, (0.000898)\n",
    "Bagged_RG_DT: 0.270055, (0.001804)'''"
   ]
  },
  {
   "cell_type": "code",
   "execution_count": 69,
   "metadata": {},
   "outputs": [
    {
     "data": {
      "image/png": "[encoded data removed]",
      "text/plain": [
       "<Figure size 432x288 with 1 Axes>"
      ]
     },
     "metadata": {
      "needs_background": "light"
     },
     "output_type": "display_data"
    }
   ],
   "source": [
    "rf_imp(df_feat,10)"
   ]
  },
  {
   "cell_type": "markdown",
   "metadata": {},
   "source": [
    "#### Naive Bayes continues to dissappoint in the predictions. The Bagged Decision Tree is a clear winner still.\n",
    "\n",
    "The overall effect of this new feature doesn't actually make a difference in our analysis"
   ]
  },
  {
   "cell_type": "markdown",
   "metadata": {},
   "source": [
    "Lets make another feature taking the means of all the 3 Hillshade index columns. Since, they are representing similar characteristics"
   ]
  },
  {
   "cell_type": "code",
   "execution_count": 52,
   "metadata": {},
   "outputs": [
    {
     "data": {
      "text/plain": [
       "Index(['Elevation', 'Aspect', 'Slope', 'Horizontal_Distance_To_Hydrology',\n",
       "       'Vertical_Distance_To_Hydrology', 'Horizontal_Distance_To_Roadways',\n",
       "       'Horizontal_Distance_To_Fire_Points', 'Forest_Cover_Type_designation',\n",
       "       'Soil_types', 'Winderness_types', 'Hillshade_mean'],\n",
       "      dtype='object')"
      ]
     },
     "execution_count": 52,
     "metadata": {},
     "output_type": "execute_result"
    }
   ],
   "source": [
    "df_hill_mean = df.copy()\n",
    "df_hill_mean['Hillshade_mean'] = round((df['Hillshade_9am'] + df['Hillshade_Noon'] + df['Hillshade_3pm'])/3,2)\n",
    "df_hill_mean.drop(columns=['Hillshade_9am', 'Hillshade_Noon', 'Hillshade_3pm'], inplace=True)\n",
    "df_hill_mean.columns\n"
   ]
  },
  {
   "cell_type": "code",
   "execution_count": 71,
   "metadata": {},
   "outputs": [
    {
     "data": {
      "text/html": [
       "<div>\n",
       "<style scoped>\n",
       "    .dataframe tbody tr th:only-of-type {\n",
       "        vertical-align: middle;\n",
       "    }\n",
       "\n",
       "    .dataframe tbody tr th {\n",
       "        vertical-align: top;\n",
       "    }\n",
       "\n",
       "    .dataframe thead th {\n",
       "        text-align: right;\n",
       "    }\n",
       "</style>\n",
       "<table border=\"1\" class=\"dataframe\">\n",
       "  <thead>\n",
       "    <tr style=\"text-align: right;\">\n",
       "      <th></th>\n",
       "      <th>Elevation</th>\n",
       "      <th>Aspect</th>\n",
       "      <th>Slope</th>\n",
       "      <th>Horizontal_Distance_To_Hydrology</th>\n",
       "      <th>Vertical_Distance_To_Hydrology</th>\n",
       "      <th>Horizontal_Distance_To_Roadways</th>\n",
       "      <th>Horizontal_Distance_To_Fire_Points</th>\n",
       "      <th>Forest_Cover_Type_designation</th>\n",
       "      <th>Soil_types</th>\n",
       "      <th>Winderness_types</th>\n",
       "      <th>Hillshade_mean</th>\n",
       "    </tr>\n",
       "  </thead>\n",
       "  <tbody>\n",
       "    <tr>\n",
       "      <td>0</td>\n",
       "      <td>2596</td>\n",
       "      <td>51</td>\n",
       "      <td>3</td>\n",
       "      <td>258</td>\n",
       "      <td>0</td>\n",
       "      <td>510</td>\n",
       "      <td>6279</td>\n",
       "      <td>5</td>\n",
       "      <td>Soil_Type_29</td>\n",
       "      <td>Wilderness_Area_1</td>\n",
       "      <td>200.33</td>\n",
       "    </tr>\n",
       "    <tr>\n",
       "      <td>1</td>\n",
       "      <td>2590</td>\n",
       "      <td>56</td>\n",
       "      <td>2</td>\n",
       "      <td>212</td>\n",
       "      <td>-6</td>\n",
       "      <td>390</td>\n",
       "      <td>6225</td>\n",
       "      <td>5</td>\n",
       "      <td>Soil_Type_29</td>\n",
       "      <td>Wilderness_Area_1</td>\n",
       "      <td>202.00</td>\n",
       "    </tr>\n",
       "    <tr>\n",
       "      <td>2</td>\n",
       "      <td>2804</td>\n",
       "      <td>139</td>\n",
       "      <td>9</td>\n",
       "      <td>268</td>\n",
       "      <td>65</td>\n",
       "      <td>3180</td>\n",
       "      <td>6121</td>\n",
       "      <td>2</td>\n",
       "      <td>Soil_Type_12</td>\n",
       "      <td>Wilderness_Area_1</td>\n",
       "      <td>202.33</td>\n",
       "    </tr>\n",
       "    <tr>\n",
       "      <td>3</td>\n",
       "      <td>2785</td>\n",
       "      <td>155</td>\n",
       "      <td>18</td>\n",
       "      <td>242</td>\n",
       "      <td>118</td>\n",
       "      <td>3090</td>\n",
       "      <td>6211</td>\n",
       "      <td>2</td>\n",
       "      <td>Soil_Type_30</td>\n",
       "      <td>Wilderness_Area_1</td>\n",
       "      <td>199.33</td>\n",
       "    </tr>\n",
       "    <tr>\n",
       "      <td>4</td>\n",
       "      <td>2595</td>\n",
       "      <td>45</td>\n",
       "      <td>2</td>\n",
       "      <td>153</td>\n",
       "      <td>-1</td>\n",
       "      <td>391</td>\n",
       "      <td>6172</td>\n",
       "      <td>5</td>\n",
       "      <td>Soil_Type_29</td>\n",
       "      <td>Wilderness_Area_1</td>\n",
       "      <td>201.33</td>\n",
       "    </tr>\n",
       "  </tbody>\n",
       "</table>\n",
       "</div>"
      ],
      "text/plain": [
       "   Elevation  Aspect  Slope  Horizontal_Distance_To_Hydrology  \\\n",
       "0       2596      51      3                               258   \n",
       "1       2590      56      2                               212   \n",
       "2       2804     139      9                               268   \n",
       "3       2785     155     18                               242   \n",
       "4       2595      45      2                               153   \n",
       "\n",
       "   Vertical_Distance_To_Hydrology  Horizontal_Distance_To_Roadways  \\\n",
       "0                               0                              510   \n",
       "1                              -6                              390   \n",
       "2                              65                             3180   \n",
       "3                             118                             3090   \n",
       "4                              -1                              391   \n",
       "\n",
       "   Horizontal_Distance_To_Fire_Points  Forest_Cover_Type_designation  \\\n",
       "0                                6279                              5   \n",
       "1                                6225                              5   \n",
       "2                                6121                              2   \n",
       "3                                6211                              2   \n",
       "4                                6172                              5   \n",
       "\n",
       "     Soil_types   Winderness_types  Hillshade_mean  \n",
       "0  Soil_Type_29  Wilderness_Area_1          200.33  \n",
       "1  Soil_Type_29  Wilderness_Area_1          202.00  \n",
       "2  Soil_Type_12  Wilderness_Area_1          202.33  \n",
       "3  Soil_Type_30  Wilderness_Area_1          199.33  \n",
       "4  Soil_Type_29  Wilderness_Area_1          201.33  "
      ]
     },
     "execution_count": 71,
     "metadata": {},
     "output_type": "execute_result"
    }
   ],
   "source": [
    "df_hill_mean.head()"
   ]
  },
  {
   "cell_type": "code",
   "execution_count": 73,
   "metadata": {},
   "outputs": [
    {
     "name": "stdout",
     "output_type": "stream",
     "text": [
      "Decision_Tree: 0.054947, (0.000765)\n",
      "Bagged_Decision_Tree: 0.034793, (0.000783)\n",
      "Boosted_Decision_Tree: 0.054944, (0.000625)\n",
      "Random_Forest: 0.047496, (0.001310)\n",
      "Bagged_RG_DT: 0.268914, (0.001695)\n"
     ]
    },
    {
     "data": {
      "image/png": "[encoded data removed]",
      "text/plain": [
       "<Figure size 432x288 with 1 Axes>"
      ]
     },
     "metadata": {
      "needs_background": "light"
     },
     "output_type": "display_data"
    },
    {
     "data": {
      "text/plain": [
       "'\\nBase Model:\\nNaive_Bayes: 0.893098, (0.000001)\\nDecision_Tree: 0.051120, (0.000001)\\nBagged_Decision_Tree: 0.031982, (0.000001)\\nRandom_Forest: 0.044753, (0.000001)\\nBoosted_Decision_Tree: 0.050997, (0.000001)\\nBagged_RG_DT: 0.225795, (0.000008)'"
      ]
     },
     "execution_count": 73,
     "metadata": {},
     "output_type": "execute_result"
    }
   ],
   "source": [
    "modelis2(df_hill_mean, 'minmax', 'skf')\n",
    "\n",
    "'''\n",
    "Base Model:\n",
    "Decision_Tree: 0.055853, (0.000831)\n",
    "Bagged_Decision_Tree: 0.034807, (0.000771)\n",
    "Boosted_Decision_Tree: 0.055933, (0.000684)\n",
    "Random_Forest: 0.055360, (0.000898)\n",
    "Bagged_RG_DT: 0.270055, (0.001804)'''"
   ]
  },
  {
   "cell_type": "code",
   "execution_count": 74,
   "metadata": {},
   "outputs": [
    {
     "data": {
      "image/png": "[encoded data removed]",
      "text/plain": [
       "<Figure size 432x288 with 1 Axes>"
      ]
     },
     "metadata": {
      "needs_background": "light"
     },
     "output_type": "display_data"
    }
   ],
   "source": [
    "rf_imp(df_hill_mean,10)"
   ]
  },
  {
   "cell_type": "markdown",
   "metadata": {},
   "source": [
    "##### Even after adding this feature we find no real improvement in our calculations as per the results of the base model"
   ]
  },
  {
   "cell_type": "markdown",
   "metadata": {},
   "source": [
    "# Feature Engineering from Domain Knowledge"
   ]
  },
  {
   "cell_type": "markdown",
   "metadata": {},
   "source": [
    "### Hillshade Algorithm\n",
    "\n",
    "As per the Hillshade Algorithm, features like Slope should be transformed to radians first and then take its `cosine` component as new features for our analysis\n",
    "\n",
    "Hillshade = 255.0 * ((cos(Zenith_rad) * cos(Slope_rad)) +\n",
    "                 (sin(Zenith_rad) * sin(Slope_rad) * cos(Azimuth_rad - Aspect_rad)))\n",
    "\n",
    "Reference: https://pro.arcgis.com/en/pro-app/tool-reference/3d-analyst/how-hillshade-works.htm"
   ]
  },
  {
   "cell_type": "code",
   "execution_count": 53,
   "metadata": {},
   "outputs": [],
   "source": [
    "df_cos = df.copy()"
   ]
  },
  {
   "cell_type": "code",
   "execution_count": 54,
   "metadata": {},
   "outputs": [],
   "source": [
    "import math\n",
    "df_cos['Slope_rad'] = (math.pi/180)*(df_cos['Slope'])"
   ]
  },
  {
   "cell_type": "code",
   "execution_count": 55,
   "metadata": {},
   "outputs": [],
   "source": [
    "# df_sin_cos['Slope_rad_sin'] = np.sin(df_sin_cos['Slope_rad'])\n",
    "df_cos['Slope_rad_cos'] = np.cos(df_cos['Slope_rad'])"
   ]
  },
  {
   "cell_type": "code",
   "execution_count": 102,
   "metadata": {},
   "outputs": [
    {
     "data": {
      "image/png": "[encoded data removed]",
      "text/plain": [
       "<Figure size 432x288 with 1 Axes>"
      ]
     },
     "metadata": {
      "needs_background": "light"
     },
     "output_type": "display_data"
    }
   ],
   "source": [
    "sns.boxplot(df_cos['Slope_rad_cos'])\n",
    "plt.show()"
   ]
  },
  {
   "cell_type": "code",
   "execution_count": 56,
   "metadata": {},
   "outputs": [],
   "source": [
    "df_cos.drop(columns=['Slope', 'Slope_rad'], inplace=True)"
   ]
  },
  {
   "cell_type": "code",
   "execution_count": 104,
   "metadata": {},
   "outputs": [
    {
     "name": "stdout",
     "output_type": "stream",
     "text": [
      "Decision_Tree: 0.055971, (0.000657)\n",
      "Bagged_Decision_Tree: 0.034846, (0.000913)\n",
      "Boosted_Decision_Tree: 0.055959, (0.000574)\n",
      "Random_Forest: 0.053192, (0.001633)\n",
      "Bagged_RG_DT: 0.270055, (0.001804)\n"
     ]
    },
    {
     "data": {
      "image/png": "[encoded data removed]",
      "text/plain": [
       "<Figure size 432x288 with 1 Axes>"
      ]
     },
     "metadata": {
      "needs_background": "light"
     },
     "output_type": "display_data"
    },
    {
     "data": {
      "text/plain": [
       "'\\nBase Model:\\nDecision_Tree: 0.055853, (0.000831)\\nBagged_Decision_Tree: 0.034807, (0.000771)\\nBoosted_Decision_Tree: 0.055933, (0.000684)\\nRandom_Forest: 0.055360, (0.000898)\\nBagged_RG_DT: 0.270055, (0.001804)'"
      ]
     },
     "execution_count": 104,
     "metadata": {},
     "output_type": "execute_result"
    }
   ],
   "source": [
    "modelis2(df_cos, 'minmax', 'skf')\n",
    "'''\n",
    "Base Model:\n",
    "Decision_Tree: 0.055853, (0.000831)\n",
    "Bagged_Decision_Tree: 0.034807, (0.000771)\n",
    "Boosted_Decision_Tree: 0.055933, (0.000684)\n",
    "Random_Forest: 0.055360, (0.000898)\n",
    "Bagged_RG_DT: 0.270055, (0.001804)'''"
   ]
  },
  {
   "cell_type": "code",
   "execution_count": 86,
   "metadata": {},
   "outputs": [
    {
     "data": {
      "image/png": "[encoded data removed]",
      "text/plain": [
       "<Figure size 432x288 with 1 Axes>"
      ]
     },
     "metadata": {
      "needs_background": "light"
     },
     "output_type": "display_data"
    }
   ],
   "source": [
    "rf_imp(df_cos,15)"
   ]
  },
  {
   "cell_type": "markdown",
   "metadata": {},
   "source": [
    "##### In this particular case, it is clear that this feature engineering has improved the results for Naive Bayes & Decision Tree."
   ]
  },
  {
   "cell_type": "markdown",
   "metadata": {},
   "source": [
    "Overall, this feature engineering might turn out to be a better one as compared to the original model."
   ]
  },
  {
   "cell_type": "markdown",
   "metadata": {},
   "source": [
    "### Adding & Subtracting Distance Features."
   ]
  },
  {
   "cell_type": "markdown",
   "metadata": {},
   "source": [
    "We can form some more features by `adding and subtracting various distances` in order to extract better intelligence as a whole.\n",
    "\n",
    "We will also be reworking Shortest distance Feature engineering for hydrology just for experimental purposes"
   ]
  },
  {
   "cell_type": "code",
   "execution_count": 87,
   "metadata": {},
   "outputs": [
    {
     "data": {
      "text/plain": [
       "Index(['Elevation', 'Aspect', 'Slope', 'Horizontal_Distance_To_Hydrology',\n",
       "       'Vertical_Distance_To_Hydrology', 'Horizontal_Distance_To_Roadways',\n",
       "       'Hillshade_9am', 'Hillshade_Noon', 'Hillshade_3pm',\n",
       "       'Horizontal_Distance_To_Fire_Points', 'Forest_Cover_Type_designation',\n",
       "       'Soil_types', 'Winderness_types'],\n",
       "      dtype='object')"
      ]
     },
     "execution_count": 87,
     "metadata": {},
     "output_type": "execute_result"
    }
   ],
   "source": [
    "df.columns"
   ]
  },
  {
   "cell_type": "code",
   "execution_count": 57,
   "metadata": {},
   "outputs": [],
   "source": [
    "df_add_subt = df.copy()\n",
    "df_add_subt['Road_p_Fire'] = df_add_subt['Horizontal_Distance_To_Roadways'] + df_add_subt['Horizontal_Distance_To_Fire_Points']\n",
    "df_add_subt['Road_s_Fire'] = df_add_subt['Horizontal_Distance_To_Roadways'] - df_add_subt['Horizontal_Distance_To_Fire_Points']\n",
    "df_add_subt['Hyd_s_Fire'] = df_add_subt['Horizontal_Distance_To_Hydrology'] - df_add_subt['Horizontal_Distance_To_Fire_Points']\n",
    "df_add_subt['Hyd_p_Fire'] = df_add_subt['Horizontal_Distance_To_Hydrology'] + df_add_subt['Horizontal_Distance_To_Fire_Points']\n",
    "df_add_subt['Hyd_p_Road'] = df_add_subt['Horizontal_Distance_To_Hydrology'] + df_add_subt['Horizontal_Distance_To_Roadways']\n",
    "df_add_subt['Hyd_s_Road'] = df_add_subt['Horizontal_Distance_To_Hydrology'] - df_add_subt['Horizontal_Distance_To_Roadways']\n",
    "df_add_subt['Shortest_Distance_to_Hydrology'] = np.sqrt(df['Horizontal_Distance_To_Hydrology']**2 + df['Vertical_Distance_To_Hydrology']**2)\n",
    "\n"
   ]
  },
  {
   "cell_type": "code",
   "execution_count": 58,
   "metadata": {},
   "outputs": [],
   "source": [
    "df_add_subt.drop(columns=['Horizontal_Distance_To_Hydrology','Vertical_Distance_To_Hydrology'\n",
    "                          , 'Horizontal_Distance_To_Roadways', 'Horizontal_Distance_To_Fire_Points'], inplace =True)"
   ]
  },
  {
   "cell_type": "code",
   "execution_count": 90,
   "metadata": {},
   "outputs": [
    {
     "name": "stdout",
     "output_type": "stream",
     "text": [
      "Decision_Tree: 0.048045, (0.000279)\n",
      "Bagged_Decision_Tree: 0.029836, (0.000625)\n",
      "Boosted_Decision_Tree: 0.048137, (0.000202)\n",
      "Random_Forest: 0.034292, (0.000493)\n",
      "Bagged_RG_DT: 0.265526, (0.002274)\n"
     ]
    },
    {
     "data": {
      "image/png": "[encoded data removed]",
      "text/plain": [
       "<Figure size 432x288 with 1 Axes>"
      ]
     },
     "metadata": {
      "needs_background": "light"
     },
     "output_type": "display_data"
    },
    {
     "data": {
      "text/plain": [
       "'\\nBase Model:\\nNaive_Bayes: 0.893098, (0.000001)\\nDecision_Tree: 0.051120, (0.000001)\\nBagged_Decision_Tree: 0.031982, (0.000001)\\nRandom_Forest: 0.044753, (0.000001)\\nBoosted_Decision_Tree: 0.050997, (0.000001)\\nBagged_RG_DT: 0.225795, (0.000008)'"
      ]
     },
     "execution_count": 90,
     "metadata": {},
     "output_type": "execute_result"
    }
   ],
   "source": [
    "modelis2(df_add_subt, 'minmax', 'skf')\n",
    "\n",
    "'''\n",
    "Base Model:\n",
    "Decision_Tree: 0.055853, (0.000831)\n",
    "Bagged_Decision_Tree: 0.034807, (0.000771)\n",
    "Boosted_Decision_Tree: 0.055933, (0.000684)\n",
    "Random_Forest: 0.055360, (0.000898)\n",
    "Bagged_RG_DT: 0.270055, (0.001804)'''"
   ]
  },
  {
   "cell_type": "markdown",
   "metadata": {},
   "source": [
    "##### Except Naive Bayes, all other modelling techniques have shown great promise and considerable improvement in terms of modeling predictions."
   ]
  },
  {
   "cell_type": "markdown",
   "metadata": {},
   "source": [
    "Let's have a look at Random Forest's Feature Importance to see which features among all these performed the best."
   ]
  },
  {
   "cell_type": "code",
   "execution_count": 91,
   "metadata": {},
   "outputs": [
    {
     "data": {
      "image/png": "[encoded data removed]",
      "text/plain": [
       "<Figure size 432x288 with 1 Axes>"
      ]
     },
     "metadata": {
      "needs_background": "light"
     },
     "output_type": "display_data"
    }
   ],
   "source": [
    "rf_imp(df_add_subt,10)"
   ]
  },
  {
   "cell_type": "code",
   "execution_count": 9,
   "metadata": {},
   "outputs": [
    {
     "data": {
      "text/plain": [
       "Index(['Elevation', 'Aspect', 'Slope', 'Horizontal_Distance_To_Hydrology',\n",
       "       'Vertical_Distance_To_Hydrology', 'Horizontal_Distance_To_Roadways',\n",
       "       'Hillshade_9am', 'Hillshade_Noon', 'Hillshade_3pm',\n",
       "       'Horizontal_Distance_To_Fire_Points', 'Forest_Cover_Type_designation',\n",
       "       'Soil_types', 'Winderness_types'],\n",
       "      dtype='object')"
      ]
     },
     "execution_count": 9,
     "metadata": {},
     "output_type": "execute_result"
    }
   ],
   "source": [
    "df.columns"
   ]
  },
  {
   "cell_type": "markdown",
   "metadata": {},
   "source": [
    "### Exploring similar interaction between Hillshade Indexes"
   ]
  },
  {
   "cell_type": "markdown",
   "metadata": {},
   "source": [
    "Let's engineer some features both on the basis of multiplication upon Hill Shadow indexes measures at 3 times"
   ]
  },
  {
   "cell_type": "code",
   "execution_count": 10,
   "metadata": {},
   "outputs": [],
   "source": [
    "df_mul_sub_p = df.copy()\n",
    "\n",
    "df_mul_sub_p['Hillshade_9am_m_Noon'] = df['Hillshade_9am'] * df['Hillshade_Noon']\n",
    "df_mul_sub_p['Hillshade_3pm_m_Noon'] = df['Hillshade_Noon'] * df['Hillshade_3pm']\n",
    "df_mul_sub_p['Hillshade_9am_m_3pm'] = df['Hillshade_9am'] * df['Hillshade_3pm']\n",
    "\n",
    "df_mul_sub_p.drop(columns=['Hillshade_9am', 'Hillshade_Noon', 'Hillshade_3pm'], inplace=True)"
   ]
  },
  {
   "cell_type": "code",
   "execution_count": 14,
   "metadata": {},
   "outputs": [
    {
     "name": "stdout",
     "output_type": "stream",
     "text": [
      "Decision_Tree: 0.057205, (0.000398)\n",
      "Bagged_Decision_Tree: 0.035922, (0.000659)\n",
      "Boosted_Decision_Tree: 0.057181, (0.000646)\n",
      "Random_Forest: 0.056524, (0.001112)\n",
      "Bagged_RG_DT: 0.268643, (0.003075)\n"
     ]
    },
    {
     "data": {
      "image/png": "[encoded data removed]",
      "text/plain": [
       "<Figure size 432x288 with 1 Axes>"
      ]
     },
     "metadata": {
      "needs_background": "light"
     },
     "output_type": "display_data"
    },
    {
     "data": {
      "text/plain": [
       "'\\nBase Model:\\nNaive_Bayes: 0.893098, (0.000001)\\nDecision_Tree: 0.051120, (0.000001)\\nBagged_Decision_Tree: 0.031982, (0.000001)\\nRandom_Forest: 0.044753, (0.000001)\\nBoosted_Decision_Tree: 0.050997, (0.000001)\\nBagged_RG_DT: 0.225795, (0.000008)'"
      ]
     },
     "execution_count": 14,
     "metadata": {},
     "output_type": "execute_result"
    }
   ],
   "source": [
    "modelis2(df_mul_sub_p, 'minmax', 'skf')\n",
    "'''\n",
    "Base Model:\n",
    "Decision_Tree: 0.055853, (0.000831)\n",
    "Bagged_Decision_Tree: 0.034807, (0.000771)\n",
    "Boosted_Decision_Tree: 0.055933, (0.000684)\n",
    "Random_Forest: 0.055360, (0.000898)\n",
    "Bagged_RG_DT: 0.270055, (0.001804)'''"
   ]
  },
  {
   "cell_type": "code",
   "execution_count": 17,
   "metadata": {},
   "outputs": [
    {
     "data": {
      "image/png": "[encoded data removed]",
      "text/plain": [
       "<Figure size 432x288 with 1 Axes>"
      ]
     },
     "metadata": {
      "needs_background": "light"
     },
     "output_type": "display_data"
    }
   ],
   "source": [
    "rf_imp(df_mul_sub_p,15)"
   ]
  },
  {
   "cell_type": "code",
   "execution_count": 18,
   "metadata": {},
   "outputs": [
    {
     "data": {
      "text/plain": [
       "Index(['Elevation', 'Aspect', 'Slope', 'Horizontal_Distance_To_Hydrology',\n",
       "       'Vertical_Distance_To_Hydrology', 'Horizontal_Distance_To_Roadways',\n",
       "       'Horizontal_Distance_To_Fire_Points', 'Forest_Cover_Type_designation',\n",
       "       'Soil_types', 'Winderness_types', 'Hillshade_9am_m_Noon',\n",
       "       'Hillshade_3pm_m_Noon', 'Hillshade_9am_m_3pm'],\n",
       "      dtype='object')"
      ]
     },
     "execution_count": 18,
     "metadata": {},
     "output_type": "execute_result"
    }
   ],
   "source": [
    "df_mul_sub_p.columns"
   ]
  },
  {
   "cell_type": "markdown",
   "metadata": {},
   "source": [
    "#   Study Code USFS ELU Code\t\t\tDescription\n",
    "- 1\t   2702\t1\tCathedral family - Rock outcrop complex, extremely stony.\n",
    "- 2\t   2703\t2\tVanet - Ratake families complex, very stony.\n",
    "- 3\t   2704\t3\tHaploborolis - Rock outcrop complex, rubbly.\n",
    "- 4\t   2705\t4\tRatake family - Rock outcrop complex, rubbly.\n",
    "- 5\t   2706\t2\tVanet family - Rock outcrop complex complex, rubbly.\n",
    "- 6\t   2717\t2\tVanet - Wetmore families - Rock outcrop complex, stony.\n",
    "- 7\t   3501\t5\tGothic family.\n",
    "- 8\t   3502\t6\tSupervisor - Limber families complex.\n",
    "- 9\t   4201\t7\tTroutville family, very stony.\n",
    "- 10\t 4703  8\tBullwark - Catamount families - Rock outcrop complex, rubbly.\n",
    "- 11\t   4704\t8\tBullwark - Catamount families - Rock land complex, rubbly.\n",
    "- 12\t   4744\t9\tLegault family - Rock land complex, stony.\n",
    "- 13\t   4758\t10\tCatamount family - Rock land - Bullwark family complex, rubbly.\n",
    "- 14\t   5101\t11\tPachic Argiborolis - Aquolis complex.\n",
    "- 15\t   5151\t12\tunspecified in the USFS Soil and ELU Survey.\n",
    "- 16\t   6101\t13 \tCryaquolis - Cryoborolis complex.\n",
    "- 17\t   6102\t14\tGateview family - Cryaquolis complex.\n",
    "- 18\t   6731\t15\tRogert family, very stony.\n",
    "- 19\t   7101\t13\tTypic Cryaquolis - Borohemists complex.\n",
    "- 20\t   7102\t14\tTypic Cryaquepts - Typic Cryaquolls complex.\n",
    "- 21\t   7103 15\tTypic Cryaquolls - Leighcan family, till substratum complex.\n",
    "- 22\t   7201\t16\tLeighcan family, till substratum, extremely bouldery.\n",
    "- 23\t   7202\t16\tLeighcan family, till substratum - Typic Cryaquolls complex.\n",
    "- 24\t   7700\t16\tLeighcan family, extremely stony.\n",
    "- 25\t   7701\t16\tLeighcan family, warm, extremely stony.\n",
    "- 26\t   7702\t17\tGranile - Catamount families complex, very stony.\n",
    "- 27\t   7709\t16\tLeighcan family, warm - Rock outcrop complex, extremely stony.\n",
    "- 28\t   7710\t16\tLeighcan family - Rock outcrop complex, extremely stony.\n",
    "- 29\t   7745\t18\tComo - Legault families complex, extremely stony.\n",
    "- 30\t   7746\t18\tComo family - Rock land - Legault family complex, extremely stony.\n",
    "- 31\t   7755\t16\tLeighcan - Catamount families complex, extremely stony.\n",
    "- 32\t   7756\t10\tCatamount family - Rock outcrop - Leighcan family complex, extremely stony.\n",
    "- 33\t   7757\t16\tLeighcan - Catamount families - Rock outcrop complex, extremely stony.\n",
    "- 34\t   7790\t19\tCryorthents - Rock land complex, extremely stony.\n",
    "- 35\t   8703\t20\tCryumbrepts - Rock outcrop - Cryaquepts complex.\n",
    "- 36\t   8707\t21\tBross family - Rock land - Cryumbrepts complex, extremely stony.\n",
    "- 37\t   8708\t20\tRock outcrop - Cryumbrepts - Cryorthents complex, extremely stony.\n",
    "- 38\t   8771\t16\tLeighcan - Moran families - Cryaquolls complex, extremely stony.\n",
    "- 39\t   8772\t19\tMoran family - Cryorthents - Leighcan family complex, extremely stony.\n",
    "- 40\t   8776\t19\tMoran family - Cryorthents - Rock land complex, extremely stony."
   ]
  },
  {
   "cell_type": "markdown",
   "metadata": {},
   "source": [
    "`Reference Link`: https://archive.ics.uci.edu/ml/datasets/covertype"
   ]
  },
  {
   "cell_type": "markdown",
   "metadata": {},
   "source": [
    "# Generalizing Soil Types\n",
    "\n",
    "- On the basis of Soil texture, we are trying this feature engineering. Since, family is not what effects any of our Hillshading Indexes or Geo Spatial Data but the texture of Soil will definitely have some impact on the Hillshading Parameters"
   ]
  },
  {
   "cell_type": "code",
   "execution_count": 59,
   "metadata": {
    "scrolled": true
   },
   "outputs": [
    {
     "data": {
      "text/html": [
       "<div>\n",
       "<style scoped>\n",
       "    .dataframe tbody tr th:only-of-type {\n",
       "        vertical-align: middle;\n",
       "    }\n",
       "\n",
       "    .dataframe tbody tr th {\n",
       "        vertical-align: top;\n",
       "    }\n",
       "\n",
       "    .dataframe thead th {\n",
       "        text-align: right;\n",
       "    }\n",
       "</style>\n",
       "<table border=\"1\" class=\"dataframe\">\n",
       "  <thead>\n",
       "    <tr style=\"text-align: right;\">\n",
       "      <th></th>\n",
       "      <th>Soil_types</th>\n",
       "      <th>Winderness_types</th>\n",
       "      <th>Forest_Cover_Type_designation</th>\n",
       "    </tr>\n",
       "  </thead>\n",
       "  <tbody>\n",
       "    <tr>\n",
       "      <td>0</td>\n",
       "      <td>22</td>\n",
       "      <td>1</td>\n",
       "      <td>5</td>\n",
       "    </tr>\n",
       "    <tr>\n",
       "      <td>1</td>\n",
       "      <td>22</td>\n",
       "      <td>1</td>\n",
       "      <td>5</td>\n",
       "    </tr>\n",
       "    <tr>\n",
       "      <td>2</td>\n",
       "      <td>4</td>\n",
       "      <td>1</td>\n",
       "      <td>2</td>\n",
       "    </tr>\n",
       "    <tr>\n",
       "      <td>3</td>\n",
       "      <td>24</td>\n",
       "      <td>1</td>\n",
       "      <td>2</td>\n",
       "    </tr>\n",
       "    <tr>\n",
       "      <td>4</td>\n",
       "      <td>22</td>\n",
       "      <td>1</td>\n",
       "      <td>5</td>\n",
       "    </tr>\n",
       "  </tbody>\n",
       "</table>\n",
       "</div>"
      ],
      "text/plain": [
       "   Soil_types  Winderness_types  Forest_Cover_Type_designation\n",
       "0          22                 1                              5\n",
       "1          22                 1                              5\n",
       "2           4                 1                              2\n",
       "3          24                 1                              2\n",
       "4          22                 1                              5"
      ]
     },
     "execution_count": 59,
     "metadata": {},
     "output_type": "execute_result"
    }
   ],
   "source": [
    "cat = df.select_dtypes(include='object')\n",
    "le = LabelEncoder()\n",
    "for i in cat.columns:\n",
    "    cat[i] = le.fit_transform(cat[i])+1\n",
    "cat['Forest_Cover_Type_designation'] = df['Forest_Cover_Type_designation']\n",
    "cat.head()"
   ]
  },
  {
   "cell_type": "code",
   "execution_count": 60,
   "metadata": {},
   "outputs": [
    {
     "data": {
      "text/plain": [
       "{3, 4, 5, 10, 11, 13}"
      ]
     },
     "execution_count": 60,
     "metadata": {},
     "output_type": "execute_result"
    }
   ],
   "source": [
    "stony = {1,2,6,9,12,18, 24,25,26,27,28,29,30,31,32,33,34,36,37,38,39,40}\n",
    "others = {7,8,14,15,16,17,19,20, 21, 22,23,35}\n",
    "rubble = {i for i in range(1,41)}-stony-others\n",
    "rubble"
   ]
  },
  {
   "cell_type": "code",
   "execution_count": 61,
   "metadata": {},
   "outputs": [
    {
     "data": {
      "text/plain": [
       "['Soil_Type_1',\n",
       " 'Soil_Type_10',\n",
       " 'Soil_Type_11',\n",
       " 'Soil_Type_12',\n",
       " 'Soil_Type_13',\n",
       " 'Soil_Type_14',\n",
       " 'Soil_Type_15',\n",
       " 'Soil_Type_16',\n",
       " 'Soil_Type_17',\n",
       " 'Soil_Type_18',\n",
       " 'Soil_Type_19',\n",
       " 'Soil_Type_2',\n",
       " 'Soil_Type_20',\n",
       " 'Soil_Type_21',\n",
       " 'Soil_Type_22',\n",
       " 'Soil_Type_23',\n",
       " 'Soil_Type_24',\n",
       " 'Soil_Type_25',\n",
       " 'Soil_Type_26',\n",
       " 'Soil_Type_27',\n",
       " 'Soil_Type_28',\n",
       " 'Soil_Type_29',\n",
       " 'Soil_Type_3',\n",
       " 'Soil_Type_30',\n",
       " 'Soil_Type_31',\n",
       " 'Soil_Type_32',\n",
       " 'Soil_Type_33',\n",
       " 'Soil_Type_34',\n",
       " 'Soil_Type_35',\n",
       " 'Soil_Type_36',\n",
       " 'Soil_Type_37',\n",
       " 'Soil_Type_38',\n",
       " 'Soil_Type_39',\n",
       " 'Soil_Type_4',\n",
       " 'Soil_Type_40',\n",
       " 'Soil_Type_5',\n",
       " 'Soil_Type_6',\n",
       " 'Soil_Type_7',\n",
       " 'Soil_Type_8',\n",
       " 'Soil_Type_9']"
      ]
     },
     "execution_count": 61,
     "metadata": {},
     "output_type": "execute_result"
    }
   ],
   "source": [
    "val = [1, 2, 3, 4, 2, 2, 5, 6, 7, 8, 8, 9, 10, 11, 12, 13, 14, 15, 13, 14, 15, 16, 16, 16,16, 17, 16, 16, 18, 18, 16, 10, 16, 19, 20, 21, 20, 16, 19, 19]\n",
    "sorted(df['Soil_types'].unique())"
   ]
  },
  {
   "cell_type": "code",
   "execution_count": 62,
   "metadata": {},
   "outputs": [],
   "source": [
    "key = ['Soil_Type_1',\n",
    " 'Soil_Type_2',\n",
    " 'Soil_Type_3', \n",
    " 'Soil_Type_4',\n",
    " 'Soil_Type_5',\n",
    " 'Soil_Type_6',\n",
    " 'Soil_Type_7',\n",
    " 'Soil_Type_8',\n",
    " 'Soil_Type_9',    \n",
    " 'Soil_Type_10',\n",
    " 'Soil_Type_11',\n",
    " 'Soil_Type_12',\n",
    " 'Soil_Type_13',\n",
    " 'Soil_Type_14',\n",
    " 'Soil_Type_15',\n",
    " 'Soil_Type_16',\n",
    " 'Soil_Type_17',\n",
    " 'Soil_Type_18',\n",
    " 'Soil_Type_19',\n",
    " 'Soil_Type_20',\n",
    " 'Soil_Type_21',\n",
    " 'Soil_Type_22',\n",
    " 'Soil_Type_23',\n",
    " 'Soil_Type_24',\n",
    " 'Soil_Type_25',\n",
    " 'Soil_Type_26',\n",
    " 'Soil_Type_27',\n",
    " 'Soil_Type_28',\n",
    " 'Soil_Type_29',\n",
    " 'Soil_Type_30',\n",
    " 'Soil_Type_31',\n",
    " 'Soil_Type_32',\n",
    " 'Soil_Type_33',\n",
    " 'Soil_Type_34',\n",
    " 'Soil_Type_35',\n",
    " 'Soil_Type_36',\n",
    " 'Soil_Type_37',\n",
    " 'Soil_Type_38',\n",
    " 'Soil_Type_39',\n",
    " 'Soil_Type_40']\n",
    "family_dict = dict(zip(key,val))"
   ]
  },
  {
   "cell_type": "code",
   "execution_count": 63,
   "metadata": {},
   "outputs": [],
   "source": [
    "cat['Soil_types_bin'] = cat['Soil_types'].apply(lambda x: 'rubble' if x in rubble else 'others' if x in others else 'stony')\n"
   ]
  },
  {
   "cell_type": "code",
   "execution_count": 64,
   "metadata": {},
   "outputs": [
    {
     "data": {
      "text/plain": [
       "0         others\n",
       "1         others\n",
       "2         rubble\n",
       "3          stony\n",
       "4         others\n",
       "           ...  \n",
       "581007     stony\n",
       "581008     stony\n",
       "581009     stony\n",
       "581010     stony\n",
       "581011     stony\n",
       "Name: Soil_types_bin, Length: 581012, dtype: object"
      ]
     },
     "execution_count": 64,
     "metadata": {},
     "output_type": "execute_result"
    }
   ],
   "source": [
    "cat['Soil_types_bin']"
   ]
  },
  {
   "cell_type": "code",
   "execution_count": 65,
   "metadata": {},
   "outputs": [],
   "source": [
    "df_soil_bin = df.copy()\n",
    "df_soil_bin['Soil_types_bin'] = cat['Soil_types_bin']\n",
    "df_soil_bin['Soil_families'] = df['Soil_types'].map(family_dict)\n",
    "df_soil_bin['Soil_families'] = df_soil_bin['Soil_families'].apply(lambda x: str(x))\n",
    "df_soil_bin.drop(columns='Soil_types', inplace = True)"
   ]
  },
  {
   "cell_type": "code",
   "execution_count": 50,
   "metadata": {},
   "outputs": [
    {
     "data": {
      "text/html": [
       "<div>\n",
       "<style scoped>\n",
       "    .dataframe tbody tr th:only-of-type {\n",
       "        vertical-align: middle;\n",
       "    }\n",
       "\n",
       "    .dataframe tbody tr th {\n",
       "        vertical-align: top;\n",
       "    }\n",
       "\n",
       "    .dataframe thead th {\n",
       "        text-align: right;\n",
       "    }\n",
       "</style>\n",
       "<table border=\"1\" class=\"dataframe\">\n",
       "  <thead>\n",
       "    <tr style=\"text-align: right;\">\n",
       "      <th></th>\n",
       "      <th>Elevation</th>\n",
       "      <th>Aspect</th>\n",
       "      <th>Slope</th>\n",
       "      <th>Horizontal_Distance_To_Hydrology</th>\n",
       "      <th>Vertical_Distance_To_Hydrology</th>\n",
       "      <th>Horizontal_Distance_To_Roadways</th>\n",
       "      <th>Hillshade_9am</th>\n",
       "      <th>Hillshade_Noon</th>\n",
       "      <th>Hillshade_3pm</th>\n",
       "      <th>Horizontal_Distance_To_Fire_Points</th>\n",
       "      <th>Forest_Cover_Type_designation</th>\n",
       "      <th>Winderness_types</th>\n",
       "      <th>Soil_types_bin</th>\n",
       "      <th>Soil_families</th>\n",
       "    </tr>\n",
       "  </thead>\n",
       "  <tbody>\n",
       "    <tr>\n",
       "      <td>0</td>\n",
       "      <td>2596</td>\n",
       "      <td>51</td>\n",
       "      <td>3</td>\n",
       "      <td>258</td>\n",
       "      <td>0</td>\n",
       "      <td>510</td>\n",
       "      <td>221</td>\n",
       "      <td>232</td>\n",
       "      <td>148</td>\n",
       "      <td>6279</td>\n",
       "      <td>5</td>\n",
       "      <td>Wilderness_Area_1</td>\n",
       "      <td>others</td>\n",
       "      <td>18</td>\n",
       "    </tr>\n",
       "    <tr>\n",
       "      <td>1</td>\n",
       "      <td>2590</td>\n",
       "      <td>56</td>\n",
       "      <td>2</td>\n",
       "      <td>212</td>\n",
       "      <td>-6</td>\n",
       "      <td>390</td>\n",
       "      <td>220</td>\n",
       "      <td>235</td>\n",
       "      <td>151</td>\n",
       "      <td>6225</td>\n",
       "      <td>5</td>\n",
       "      <td>Wilderness_Area_1</td>\n",
       "      <td>others</td>\n",
       "      <td>18</td>\n",
       "    </tr>\n",
       "    <tr>\n",
       "      <td>2</td>\n",
       "      <td>2804</td>\n",
       "      <td>139</td>\n",
       "      <td>9</td>\n",
       "      <td>268</td>\n",
       "      <td>65</td>\n",
       "      <td>3180</td>\n",
       "      <td>234</td>\n",
       "      <td>238</td>\n",
       "      <td>135</td>\n",
       "      <td>6121</td>\n",
       "      <td>2</td>\n",
       "      <td>Wilderness_Area_1</td>\n",
       "      <td>rubble</td>\n",
       "      <td>9</td>\n",
       "    </tr>\n",
       "    <tr>\n",
       "      <td>3</td>\n",
       "      <td>2785</td>\n",
       "      <td>155</td>\n",
       "      <td>18</td>\n",
       "      <td>242</td>\n",
       "      <td>118</td>\n",
       "      <td>3090</td>\n",
       "      <td>238</td>\n",
       "      <td>238</td>\n",
       "      <td>122</td>\n",
       "      <td>6211</td>\n",
       "      <td>2</td>\n",
       "      <td>Wilderness_Area_1</td>\n",
       "      <td>stony</td>\n",
       "      <td>18</td>\n",
       "    </tr>\n",
       "    <tr>\n",
       "      <td>4</td>\n",
       "      <td>2595</td>\n",
       "      <td>45</td>\n",
       "      <td>2</td>\n",
       "      <td>153</td>\n",
       "      <td>-1</td>\n",
       "      <td>391</td>\n",
       "      <td>220</td>\n",
       "      <td>234</td>\n",
       "      <td>150</td>\n",
       "      <td>6172</td>\n",
       "      <td>5</td>\n",
       "      <td>Wilderness_Area_1</td>\n",
       "      <td>others</td>\n",
       "      <td>18</td>\n",
       "    </tr>\n",
       "  </tbody>\n",
       "</table>\n",
       "</div>"
      ],
      "text/plain": [
       "   Elevation  Aspect  Slope  Horizontal_Distance_To_Hydrology  \\\n",
       "0       2596      51      3                               258   \n",
       "1       2590      56      2                               212   \n",
       "2       2804     139      9                               268   \n",
       "3       2785     155     18                               242   \n",
       "4       2595      45      2                               153   \n",
       "\n",
       "   Vertical_Distance_To_Hydrology  Horizontal_Distance_To_Roadways  \\\n",
       "0                               0                              510   \n",
       "1                              -6                              390   \n",
       "2                              65                             3180   \n",
       "3                             118                             3090   \n",
       "4                              -1                              391   \n",
       "\n",
       "   Hillshade_9am  Hillshade_Noon  Hillshade_3pm  \\\n",
       "0            221             232            148   \n",
       "1            220             235            151   \n",
       "2            234             238            135   \n",
       "3            238             238            122   \n",
       "4            220             234            150   \n",
       "\n",
       "   Horizontal_Distance_To_Fire_Points  Forest_Cover_Type_designation  \\\n",
       "0                                6279                              5   \n",
       "1                                6225                              5   \n",
       "2                                6121                              2   \n",
       "3                                6211                              2   \n",
       "4                                6172                              5   \n",
       "\n",
       "    Winderness_types Soil_types_bin  Soil_families  \n",
       "0  Wilderness_Area_1         others             18  \n",
       "1  Wilderness_Area_1         others             18  \n",
       "2  Wilderness_Area_1         rubble              9  \n",
       "3  Wilderness_Area_1          stony             18  \n",
       "4  Wilderness_Area_1         others             18  "
      ]
     },
     "execution_count": 50,
     "metadata": {},
     "output_type": "execute_result"
    }
   ],
   "source": [
    "df_soil_bin.head()"
   ]
  },
  {
   "cell_type": "code",
   "execution_count": 51,
   "metadata": {},
   "outputs": [
    {
     "name": "stdout",
     "output_type": "stream",
     "text": [
      "Decision_Tree: 0.057369, (0.000744)\n",
      "Bagged_Decision_Tree: 0.036171, (0.000565)\n",
      "Boosted_Decision_Tree: 0.057116, (0.000916)\n",
      "Random_Forest: 0.044273, (0.000933)\n",
      "Bagged_RG_DT: 0.263831, (0.001377)\n"
     ]
    },
    {
     "data": {
      "image/png": "[encoded data removed]",
      "text/plain": [
       "<Figure size 432x288 with 1 Axes>"
      ]
     },
     "metadata": {
      "needs_background": "light"
     },
     "output_type": "display_data"
    },
    {
     "data": {
      "text/plain": [
       "'\\nBase Model:\\nDecision_Tree: 0.055853, (0.000831)\\nBagged_Decision_Tree: 0.034807, (0.000771)\\nBoosted_Decision_Tree: 0.055933, (0.000684)\\nRandom_Forest: 0.055360, (0.000898)\\nBagged_RG_DT: 0.270055, (0.001804)'"
      ]
     },
     "execution_count": 51,
     "metadata": {},
     "output_type": "execute_result"
    }
   ],
   "source": [
    "modelis2(df_soil_bin, 'minmax', 'skf')\n",
    "\n",
    "'''\n",
    "Base Model:\n",
    "Decision_Tree: 0.055853, (0.000831)\n",
    "Bagged_Decision_Tree: 0.034807, (0.000771)\n",
    "Boosted_Decision_Tree: 0.055933, (0.000684)\n",
    "Random_Forest: 0.055360, (0.000898)\n",
    "Bagged_RG_DT: 0.270055, (0.001804)'''"
   ]
  },
  {
   "cell_type": "code",
   "execution_count": 66,
   "metadata": {},
   "outputs": [
    {
     "name": "stdout",
     "output_type": "stream",
     "text": [
      "Decision_Tree: 0.056016, (0.000780)\n",
      "Bagged_Decision_Tree: 0.035788, (0.000631)\n",
      "Boosted_Decision_Tree: 0.056159, (0.000493)\n",
      "Random_Forest: 0.058973, (0.001339)\n",
      "Bagged_RG_DT: 0.262867, (0.001181)\n"
     ]
    },
    {
     "data": {
      "image/png": "[encoded data removed]",
      "text/plain": [
       "<Figure size 432x288 with 1 Axes>"
      ]
     },
     "metadata": {
      "needs_background": "light"
     },
     "output_type": "display_data"
    },
    {
     "data": {
      "text/plain": [
       "'\\nBase Model:\\nDecision_Tree: 0.055853, (0.000831)\\nBagged_Decision_Tree: 0.034807, (0.000771)\\nBoosted_Decision_Tree: 0.055933, (0.000684)\\nRandom_Forest: 0.055360, (0.000898)\\nBagged_RG_DT: 0.270055, (0.001804)'"
      ]
     },
     "execution_count": 66,
     "metadata": {},
     "output_type": "execute_result"
    }
   ],
   "source": [
    "modelis2(df_soil_bin, 'minmax', 'skf')\n",
    "\n",
    "'''\n",
    "Base Model:\n",
    "Decision_Tree: 0.055853, (0.000831)\n",
    "Bagged_Decision_Tree: 0.034807, (0.000771)\n",
    "Boosted_Decision_Tree: 0.055933, (0.000684)\n",
    "Random_Forest: 0.055360, (0.000898)\n",
    "Bagged_RG_DT: 0.270055, (0.001804)'''"
   ]
  },
  {
   "cell_type": "code",
   "execution_count": 28,
   "metadata": {},
   "outputs": [
    {
     "data": {
      "image/png": "[encoded data removed]",
      "text/plain": [
       "<Figure size 432x288 with 1 Axes>"
      ]
     },
     "metadata": {
      "needs_background": "light"
     },
     "output_type": "display_data"
    }
   ],
   "source": [
    "rf_imp(df_soil_bin,10)"
   ]
  },
  {
   "cell_type": "markdown",
   "metadata": {},
   "source": [
    "# Building Final Model with Best FE features"
   ]
  },
  {
   "cell_type": "code",
   "execution_count": 73,
   "metadata": {},
   "outputs": [],
   "source": [
    "df_final = df.copy()"
   ]
  },
  {
   "cell_type": "code",
   "execution_count": 74,
   "metadata": {},
   "outputs": [],
   "source": [
    "df_final['Road_p_Fire'] = df_final['Horizontal_Distance_To_Roadways'] + df_final['Horizontal_Distance_To_Fire_Points']\n",
    "df_final['Road_s_Fire'] = df_final['Horizontal_Distance_To_Roadways'] - df_final['Horizontal_Distance_To_Fire_Points']\n",
    "df_final['Hyd_s_Fire'] = df_final['Horizontal_Distance_To_Hydrology'] - df_final['Horizontal_Distance_To_Fire_Points']\n",
    "df_final['Hyd_p_Fire'] = df_final['Horizontal_Distance_To_Hydrology'] + df_final['Horizontal_Distance_To_Fire_Points']\n",
    "df_final['Hyd_p_Road'] = df_final['Horizontal_Distance_To_Hydrology'] + df_final['Horizontal_Distance_To_Roadways']\n",
    "df_final['Hyd_s_Road'] = df_final['Horizontal_Distance_To_Hydrology'] - df_final['Horizontal_Distance_To_Roadways']\n",
    "df_final['Shortest_Distance_to_Hydrology'] = np.sqrt(df_final['Horizontal_Distance_To_Hydrology']**2 + df_final['Vertical_Distance_To_Hydrology']**2)\n",
    "df_final['Slope_rad_cos'] = df_cos['Slope_rad_cos']\n",
    "df_final['Hillshade_mean'] = round((df['Hillshade_9am'] + df['Hillshade_Noon'] + df['Hillshade_3pm'])/3,2)\n",
    "df_final['Soil_families'] = df_soil_bin['Soil_families']\n",
    "df_final['Soil_types_bin'] = df_soil_bin['Soil_types_bin']\n"
   ]
  },
  {
   "cell_type": "code",
   "execution_count": 75,
   "metadata": {},
   "outputs": [
    {
     "data": {
      "text/plain": [
       "Index(['Elevation', 'Aspect', 'Slope', 'Horizontal_Distance_To_Hydrology',\n",
       "       'Vertical_Distance_To_Hydrology', 'Horizontal_Distance_To_Roadways',\n",
       "       'Hillshade_9am', 'Hillshade_Noon', 'Hillshade_3pm',\n",
       "       'Horizontal_Distance_To_Fire_Points', 'Forest_Cover_Type_designation',\n",
       "       'Soil_types', 'Winderness_types'],\n",
       "      dtype='object')"
      ]
     },
     "execution_count": 75,
     "metadata": {},
     "output_type": "execute_result"
    }
   ],
   "source": [
    "df.columns"
   ]
  },
  {
   "cell_type": "code",
   "execution_count": 76,
   "metadata": {},
   "outputs": [],
   "source": [
    "df_final.drop(columns=['Slope', 'Horizontal_Distance_To_Hydrology',\n",
    "       'Vertical_Distance_To_Hydrology', 'Horizontal_Distance_To_Roadways',\n",
    "       'Hillshade_9am', 'Hillshade_Noon', 'Hillshade_3pm',\n",
    "       'Horizontal_Distance_To_Fire_Points',\n",
    "       'Soil_types'], inplace=True)"
   ]
  },
  {
   "cell_type": "code",
   "execution_count": 77,
   "metadata": {},
   "outputs": [
    {
     "data": {
      "text/plain": [
       "Index(['Elevation', 'Aspect', 'Forest_Cover_Type_designation',\n",
       "       'Winderness_types', 'Road_p_Fire', 'Road_s_Fire', 'Hyd_s_Fire',\n",
       "       'Hyd_p_Fire', 'Hyd_p_Road', 'Hyd_s_Road',\n",
       "       'Shortest_Distance_to_Hydrology', 'Slope_rad_cos', 'Hillshade_mean',\n",
       "       'Soil_families', 'Soil_types_bin'],\n",
       "      dtype='object')"
      ]
     },
     "execution_count": 77,
     "metadata": {},
     "output_type": "execute_result"
    }
   ],
   "source": [
    "df_final.columns"
   ]
  },
  {
   "cell_type": "code",
   "execution_count": 78,
   "metadata": {},
   "outputs": [
    {
     "name": "stdout",
     "output_type": "stream",
     "text": [
      "Decision_Tree: 0.047457, (0.000493)\n",
      "Bagged_Decision_Tree: 0.030046, (0.000554)\n",
      "Boosted_Decision_Tree: 0.047524, (0.000320)\n",
      "Random_Forest: 0.031371, (0.000523)\n",
      "Bagged_RG_DT: 0.258348, (0.001805)\n"
     ]
    },
    {
     "data": {
      "image/png": "[encoded data removed]",
      "text/plain": [
       "<Figure size 432x288 with 1 Axes>"
      ]
     },
     "metadata": {
      "needs_background": "light"
     },
     "output_type": "display_data"
    },
    {
     "data": {
      "text/plain": [
       "'\\nBase Model:\\nDecision_Tree: 0.055853, (0.000831)\\nBagged_Decision_Tree: 0.034807, (0.000771)\\nBoosted_Decision_Tree: 0.055933, (0.000684)\\nRandom_Forest: 0.055360, (0.000898)\\nBagged_RG_DT: 0.270055, (0.001804)'"
      ]
     },
     "execution_count": 78,
     "metadata": {},
     "output_type": "execute_result"
    }
   ],
   "source": [
    "modelis2(df_final, 'minmax', 'skf')\n",
    "\n",
    "'''\n",
    "Base Model:\n",
    "Decision_Tree: 0.055853, (0.000831)\n",
    "Bagged_Decision_Tree: 0.034807, (0.000771)\n",
    "Boosted_Decision_Tree: 0.055933, (0.000684)\n",
    "Random_Forest: 0.055360, (0.000898)\n",
    "Bagged_RG_DT: 0.270055, (0.001804)'''"
   ]
  },
  {
   "cell_type": "code",
   "execution_count": 89,
   "metadata": {},
   "outputs": [
    {
     "data": {
      "image/png": "[encoded data removed]",
      "text/plain": [
       "<Figure size 432x288 with 1 Axes>"
      ]
     },
     "metadata": {
      "needs_background": "light"
     },
     "output_type": "display_data"
    }
   ],
   "source": [
    "rf_imp(df_final, 20)"
   ]
  },
  {
   "cell_type": "code",
   "execution_count": 90,
   "metadata": {},
   "outputs": [],
   "source": [
    "dummy_df_final = pd.get_dummies(df, drop_first=True)\n",
    "X_final = dummy_df_final.drop(columns='Forest_Cover_Type_designation')\n",
    "y_final = dummy_df_final['Forest_Cover_Type_designation']\n",
    "X_train_final, X_test_final, y_train_final, y_test_final = train_test_split(X_final, y_final, test_size= 0.2, random_state= 123)\n",
    "mn = MinMaxScaler()\n",
    "X_train_final_std = mn.fit_transform(X_train_final)\n",
    "X_test_final_std = mn.transform(X_test_final)\n"
   ]
  },
  {
   "cell_type": "code",
   "execution_count": 91,
   "metadata": {},
   "outputs": [],
   "source": [
    "rg_dt = DecisionTreeClassifier(criterion='entropy', random_state=0, max_depth= 7) \n",
    "dt_rg_bag = BaggingClassifier(base_estimator = rg_dt, n_jobs=-1, random_state=0)\n",
    "\n",
    "\n",
    "selector = dt_rg_bag.fit(X_train_final_std, y_train_final)\n",
    "y_pred_final = selector.predict(X_test_final_std)"
   ]
  },
  {
   "cell_type": "code",
   "execution_count": 92,
   "metadata": {},
   "outputs": [
    {
     "name": "stdout",
     "output_type": "stream",
     "text": [
      "              precision    recall  f1-score   support\n",
      "\n",
      "           1       0.70      0.72      0.71     42333\n",
      "           2       0.75      0.79      0.77     56732\n",
      "           3       0.71      0.82      0.76      7058\n",
      "           4       0.76      0.67      0.71       595\n",
      "           5       0.80      0.16      0.26      1875\n",
      "           6       0.61      0.22      0.32      3503\n",
      "           7       0.83      0.55      0.66      4107\n",
      "\n",
      "    accuracy                           0.73    116203\n",
      "   macro avg       0.74      0.56      0.60    116203\n",
      "weighted avg       0.73      0.73      0.72    116203\n",
      "\n"
     ]
    }
   ],
   "source": [
    "print(classification_report(y_test, y_pred_final))"
   ]
  },
  {
   "cell_type": "code",
   "execution_count": null,
   "metadata": {},
   "outputs": [],
   "source": []
  }
 ],
 "metadata": {
  "accelerator": "TPU",
  "colab": {
   "name": "Capstone Project.ipynb",
   "provenance": []
  },
  "kernelspec": {
   "display_name": "Python 3",
   "language": "python",
   "name": "python3"
  },
  "language_info": {
   "codemirror_mode": {
    "name": "ipython",
    "version": 3
   },
   "file_extension": ".py",
   "mimetype": "text/x-python",
   "name": "python",
   "nbconvert_exporter": "python",
   "pygments_lexer": "ipython3",
   "version": "3.7.3"
  }
 },
 "nbformat": 4,
 "nbformat_minor": 1
}
